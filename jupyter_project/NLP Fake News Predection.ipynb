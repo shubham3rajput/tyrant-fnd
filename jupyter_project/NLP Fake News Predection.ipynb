{
 "cells": [
  {
   "cell_type": "markdown",
   "metadata": {},
   "source": [
    "# Classification problem with Fake and Real news\n",
    "## Hatem Hassan\n",
    "\n",
    "In this assignment, I build a text classification to define whether or not a certain article is fake news or real news. Using Natural Language Processing methodologies in Python and Classification Theory, I reached an accuracy of 0.945455 for classifying news as fake."
   ]
  },
  {
   "cell_type": "code",
   "execution_count": 2,
   "metadata": {
    "scrolled": true
   },
   "outputs": [
    {
     "ename": "ModuleNotFoundError",
     "evalue": "No module named 'termcolor'",
     "output_type": "error",
     "traceback": [
      "\u001b[1;31m---------------------------------------------------------------------------\u001b[0m",
      "\u001b[1;31mModuleNotFoundError\u001b[0m                       Traceback (most recent call last)",
      "\u001b[1;32m~\\Documents\\FND\\Merged - Copy\\Merged - Copy\\jupyter_project\\python_helper.py\u001b[0m in \u001b[0;36m<module>\u001b[1;34m\u001b[0m\n\u001b[0;32m     20\u001b[0m \u001b[1;32mimport\u001b[0m \u001b[0mstring\u001b[0m\u001b[1;33m\u001b[0m\u001b[1;33m\u001b[0m\u001b[0m\n\u001b[0;32m     21\u001b[0m \u001b[1;33m\u001b[0m\u001b[0m\n\u001b[1;32m---> 22\u001b[1;33m \u001b[1;32mfrom\u001b[0m \u001b[0mtermcolor\u001b[0m \u001b[1;32mimport\u001b[0m \u001b[0mcolored\u001b[0m\u001b[1;33m\u001b[0m\u001b[1;33m\u001b[0m\u001b[0m\n\u001b[0m\u001b[0;32m     23\u001b[0m \u001b[1;33m\u001b[0m\u001b[0m\n\u001b[0;32m     24\u001b[0m \u001b[1;32mfrom\u001b[0m \u001b[0mnltk\u001b[0m \u001b[1;32mimport\u001b[0m \u001b[0mword_tokenize\u001b[0m\u001b[1;33m\u001b[0m\u001b[1;33m\u001b[0m\u001b[0m\n",
      "\u001b[1;31mModuleNotFoundError\u001b[0m: No module named 'termcolor'"
     ]
    }
   ],
   "source": [
    "## This file has all imports and helper functions used throughout the notebook\n",
    "%run python_helper.py\n",
    "%matplotlib inline "
   ]
  },
  {
   "cell_type": "markdown",
   "metadata": {},
   "source": [
    "# Clean & Save Data"
   ]
  },
  {
   "cell_type": "markdown",
   "metadata": {},
   "source": [
    "Inspecting the data files, we noticed several issues for processing the traing dataset correctly. Using Regular Expression, we convert all commas between quotations to a pipe, so the CSV parsing works correctly with all values in their correct columns."
   ]
  },
  {
   "cell_type": "code",
   "execution_count": 3,
   "metadata": {},
   "outputs": [],
   "source": [
    "input_str = open(\"fake_or_real_news_training.csv\",encoding=\"utf8\")\n",
    "\n",
    "# Remove all new lines\n",
    "noNewLines = re.sub(\"\\n\", \"\", input_str.read())\n",
    "  \n",
    "# re-add new line at end of each row\n",
    "noNewLines = re.sub(\"X1,X2\", \"X1,X2\\n\", noNewLines)\n",
    "  \n",
    "\n",
    "noNewLines = re.sub(\",FAKE[,]+\", \",FAKE,,\\n\", noNewLines)\n",
    "# noNewLines = re.sub(\",FAKE,(?!,)\",\",FAKE,,\\n\",noNewLines)\n",
    "# noNewLines = re.sub(\",FAKE,,(?!,)\",\",FAKE,,\\n\",noNewLines)\n",
    "  \n",
    "noNewLines = re.sub(\",REAL[,]+\", \",REAL,,\\n\", noNewLines)\n",
    "# noNewLines = re.sub(\",REAL,(?!,)\",\",REAL,,\\n\",noNewLines)\n",
    "# noNewLines = re.sub(\",REAL,,(?!,)\",\",REAL,,\\n\",noNewLines)\n",
    "  \n",
    "\n",
    "# Replace any commas between two quotes with |\n",
    "lines = noNewLines.split('\\n')\n",
    "\n",
    "def removeComma(g):\n",
    "      t = g.groups()\n",
    "      t = [t[0], t[1].replace(',', ' |'), t[2], t[3]]\n",
    "      return \"\".join(t)\n",
    "\n",
    "betweenQuotes = lambda line: re.sub(r'(.*,\")(.*)(\",)(.*)', lambda x: removeComma(x), line)\n",
    "\n",
    "secondCol = lambda line: re.sub(r'^([0-9]+,)(.*,.*)(,\\\")(.*)$', lambda x: removeComma(x), line, 1)\n",
    "\n",
    "\n",
    "lines = [betweenQuotes(l) for l in lines]\n",
    "lines = [secondCol(l) for l in lines]\n",
    "\n",
    "finalString = '\\n'.join(lines)\n",
    "\n"
   ]
  },
  {
   "cell_type": "markdown",
   "metadata": {},
   "source": [
    "### Save cleaned file"
   ]
  },
  {
   "cell_type": "code",
   "execution_count": 4,
   "metadata": {},
   "outputs": [],
   "source": [
    "file = open('fake_or_real_news_training_CLEANED.csv', 'w',encoding=\"utf8\")\n",
    "file.write(finalString)\n",
    "file.close()"
   ]
  },
  {
   "cell_type": "markdown",
   "metadata": {},
   "source": [
    "# Data Preparation"
   ]
  },
  {
   "cell_type": "code",
   "execution_count": 5,
   "metadata": {},
   "outputs": [],
   "source": [
    "train = pd.read_csv(\"fake_or_real_news_training_CLEANED.csv\")\n",
    "test = pd.read_csv(\"fake_or_real_news_test.csv\")"
   ]
  },
  {
   "cell_type": "code",
   "execution_count": 6,
   "metadata": {},
   "outputs": [
    {
     "data": {
      "text/plain": [
       "3997"
      ]
     },
     "execution_count": 6,
     "metadata": {},
     "output_type": "execute_result"
    }
   ],
   "source": [
    "len(train)"
   ]
  },
  {
   "cell_type": "code",
   "execution_count": 7,
   "metadata": {},
   "outputs": [
    {
     "data": {
      "text/plain": [
       "2321"
      ]
     },
     "execution_count": 7,
     "metadata": {},
     "output_type": "execute_result"
    }
   ],
   "source": [
    "len(test)"
   ]
  },
  {
   "cell_type": "code",
   "execution_count": 8,
   "metadata": {},
   "outputs": [
    {
     "data": {
      "text/html": [
       "<div>\n",
       "<style scoped>\n",
       "    .dataframe tbody tr th:only-of-type {\n",
       "        vertical-align: middle;\n",
       "    }\n",
       "\n",
       "    .dataframe tbody tr th {\n",
       "        vertical-align: top;\n",
       "    }\n",
       "\n",
       "    .dataframe thead th {\n",
       "        text-align: right;\n",
       "    }\n",
       "</style>\n",
       "<table border=\"1\" class=\"dataframe\">\n",
       "  <thead>\n",
       "    <tr style=\"text-align: right;\">\n",
       "      <th></th>\n",
       "      <th>ID</th>\n",
       "      <th>title</th>\n",
       "      <th>text</th>\n",
       "      <th>label</th>\n",
       "      <th>X1</th>\n",
       "      <th>X2</th>\n",
       "    </tr>\n",
       "  </thead>\n",
       "  <tbody>\n",
       "    <tr>\n",
       "      <th>0</th>\n",
       "      <td>8476</td>\n",
       "      <td>You Can Smell Hillary’s Fear</td>\n",
       "      <td>Daniel Greenfield | a Shillman Journalism Fell...</td>\n",
       "      <td>FAKE</td>\n",
       "      <td>NaN</td>\n",
       "      <td>NaN</td>\n",
       "    </tr>\n",
       "    <tr>\n",
       "      <th>1</th>\n",
       "      <td>10294</td>\n",
       "      <td>Watch The Exact Moment Paul Ryan Committed Pol...</td>\n",
       "      <td>Google Pinterest Digg Linkedin Reddit Stumbleu...</td>\n",
       "      <td>FAKE</td>\n",
       "      <td>NaN</td>\n",
       "      <td>NaN</td>\n",
       "    </tr>\n",
       "    <tr>\n",
       "      <th>2</th>\n",
       "      <td>3608</td>\n",
       "      <td>Kerry to go to Paris in gesture of sympathy</td>\n",
       "      <td>U.S. Secretary of State John F. Kerry said Mon...</td>\n",
       "      <td>REAL</td>\n",
       "      <td>NaN</td>\n",
       "      <td>NaN</td>\n",
       "    </tr>\n",
       "    <tr>\n",
       "      <th>3</th>\n",
       "      <td>10142</td>\n",
       "      <td>Bernie supporters on Twitter erupt in anger ag...</td>\n",
       "      <td>— Kaydee King (@KaydeeKing) November 9 | 2016 ...</td>\n",
       "      <td>FAKE</td>\n",
       "      <td>NaN</td>\n",
       "      <td>NaN</td>\n",
       "    </tr>\n",
       "    <tr>\n",
       "      <th>4</th>\n",
       "      <td>875</td>\n",
       "      <td>The Battle of New York: Why This Primary Matte...</td>\n",
       "      <td>Cruz promised his supporters. \"\"We're beating...</td>\n",
       "      <td>REAL</td>\n",
       "      <td>NaN</td>\n",
       "      <td>NaN</td>\n",
       "    </tr>\n",
       "  </tbody>\n",
       "</table>\n",
       "</div>"
      ],
      "text/plain": [
       "      ID                                              title  \\\n",
       "0   8476                       You Can Smell Hillary’s Fear   \n",
       "1  10294  Watch The Exact Moment Paul Ryan Committed Pol...   \n",
       "2   3608        Kerry to go to Paris in gesture of sympathy   \n",
       "3  10142  Bernie supporters on Twitter erupt in anger ag...   \n",
       "4    875  The Battle of New York: Why This Primary Matte...   \n",
       "\n",
       "                                                text label  X1  X2  \n",
       "0  Daniel Greenfield | a Shillman Journalism Fell...  FAKE NaN NaN  \n",
       "1  Google Pinterest Digg Linkedin Reddit Stumbleu...  FAKE NaN NaN  \n",
       "2  U.S. Secretary of State John F. Kerry said Mon...  REAL NaN NaN  \n",
       "3  — Kaydee King (@KaydeeKing) November 9 | 2016 ...  FAKE NaN NaN  \n",
       "4   Cruz promised his supporters. \"\"We're beating...  REAL NaN NaN  "
      ]
     },
     "execution_count": 8,
     "metadata": {},
     "output_type": "execute_result"
    }
   ],
   "source": [
    "train.head()"
   ]
  },
  {
   "cell_type": "code",
   "execution_count": 9,
   "metadata": {},
   "outputs": [],
   "source": [
    "train = train.drop(['X1', 'X2'], axis=1)"
   ]
  },
  {
   "cell_type": "markdown",
   "metadata": {},
   "source": [
    "We study if the dataset is unbalanced. From the plot we see this is not the case, as there is a similar amount of Fake and Real news articles. No further actions have to be taken."
   ]
  },
  {
   "cell_type": "code",
   "execution_count": 11,
   "metadata": {},
   "outputs": [
    {
     "name": "stderr",
     "output_type": "stream",
     "text": [
      "C:\\ProgramData\\Anaconda3\\lib\\site-packages\\seaborn\\_decorators.py:36: FutureWarning: Pass the following variable as a keyword arg: x. From version 0.12, the only valid positional argument will be `data`, and passing other arguments without an explicit keyword will result in an error or misinterpretation.\n",
      "  warnings.warn(\n"
     ]
    },
    {
     "data": {
      "text/plain": [
       "Text(0.5, 1.0, 'Test dataset target')"
      ]
     },
     "execution_count": 11,
     "metadata": {},
     "output_type": "execute_result"
    },
    {
     "data": {
      "image/png": "[encoded data removed]",
      "text/plain": [
       "<Figure size 432x288 with 1 Axes>"
      ]
     },
     "metadata": {
      "needs_background": "light"
     },
     "output_type": "display_data"
    }
   ],
   "source": [
    "from collections import Counter\n",
    "ax = sns.countplot(train.label, order=[x for x, count in sorted(Counter(train.label).items(), key=lambda x: -x[1])])\n",
    "\n",
    "\n",
    "for p in ax.patches:\n",
    "    height = p.get_height()\n",
    "    ax.text(p.get_x()+p.get_width()/2.,\n",
    "            height + 3,\n",
    "            '{:1.2f}%'.format(height/len(train)*100),\n",
    "            ha=\"center\") \n",
    "ax.set_title(\"Test dataset target\")\n",
    "#show()"
   ]
  },
  {
   "cell_type": "code",
   "execution_count": 16,
   "metadata": {},
   "outputs": [
    {
     "data": {
      "text/html": [
       "<div>\n",
       "<style scoped>\n",
       "    .dataframe tbody tr th:only-of-type {\n",
       "        vertical-align: middle;\n",
       "    }\n",
       "\n",
       "    .dataframe tbody tr th {\n",
       "        vertical-align: top;\n",
       "    }\n",
       "\n",
       "    .dataframe thead th {\n",
       "        text-align: right;\n",
       "    }\n",
       "</style>\n",
       "<table border=\"1\" class=\"dataframe\">\n",
       "  <thead>\n",
       "    <tr style=\"text-align: right;\">\n",
       "      <th></th>\n",
       "      <th>ID</th>\n",
       "      <th>title</th>\n",
       "      <th>text</th>\n",
       "      <th>label</th>\n",
       "    </tr>\n",
       "  </thead>\n",
       "  <tbody>\n",
       "    <tr>\n",
       "      <th>0</th>\n",
       "      <td>10498</td>\n",
       "      <td>September New Homes Sales Rise——-Back To 1992 ...</td>\n",
       "      <td>September New Homes Sales Rise Back To 1992 Le...</td>\n",
       "      <td>None</td>\n",
       "    </tr>\n",
       "    <tr>\n",
       "      <th>1</th>\n",
       "      <td>2439</td>\n",
       "      <td>Why The Obamacare Doomsday Cult Can't Admit It...</td>\n",
       "      <td>But when Congress debated and passed the Patie...</td>\n",
       "      <td>None</td>\n",
       "    </tr>\n",
       "    <tr>\n",
       "      <th>2</th>\n",
       "      <td>864</td>\n",
       "      <td>Sanders, Cruz resist pressure after NY losses,...</td>\n",
       "      <td>The Bernie Sanders and Ted Cruz campaigns vowe...</td>\n",
       "      <td>None</td>\n",
       "    </tr>\n",
       "    <tr>\n",
       "      <th>3</th>\n",
       "      <td>4128</td>\n",
       "      <td>Surviving escaped prisoner likely fatigued and...</td>\n",
       "      <td>Police searching for the second of two escaped...</td>\n",
       "      <td>None</td>\n",
       "    </tr>\n",
       "    <tr>\n",
       "      <th>4</th>\n",
       "      <td>662</td>\n",
       "      <td>Clinton and Sanders neck and neck in Californi...</td>\n",
       "      <td>No matter who wins California's 475 delegates ...</td>\n",
       "      <td>None</td>\n",
       "    </tr>\n",
       "  </tbody>\n",
       "</table>\n",
       "</div>"
      ],
      "text/plain": [
       "      ID                                              title  \\\n",
       "0  10498  September New Homes Sales Rise——-Back To 1992 ...   \n",
       "1   2439  Why The Obamacare Doomsday Cult Can't Admit It...   \n",
       "2    864  Sanders, Cruz resist pressure after NY losses,...   \n",
       "3   4128  Surviving escaped prisoner likely fatigued and...   \n",
       "4    662  Clinton and Sanders neck and neck in Californi...   \n",
       "\n",
       "                                                text label  \n",
       "0  September New Homes Sales Rise Back To 1992 Le...  None  \n",
       "1  But when Congress debated and passed the Patie...  None  \n",
       "2  The Bernie Sanders and Ted Cruz campaigns vowe...  None  \n",
       "3  Police searching for the second of two escaped...  None  \n",
       "4  No matter who wins California's 475 delegates ...  None  "
      ]
     },
     "execution_count": 16,
     "metadata": {},
     "output_type": "execute_result"
    }
   ],
   "source": [
    "test.head()"
   ]
  },
  {
   "cell_type": "markdown",
   "metadata": {},
   "source": [
    "In order to not do double work by doing operations on our train and testset and to analyze general distributions of our data, we stack train and test in df."
   ]
  },
  {
   "cell_type": "code",
   "execution_count": 22,
   "metadata": {},
   "outputs": [],
   "source": [
    "test['label'] = None  # empty label for test\n",
    "\n",
    "df = pd.concat([train, test])"
   ]
  },
  {
   "cell_type": "code",
   "execution_count": 23,
   "metadata": {},
   "outputs": [
    {
     "data": {
      "text/plain": [
       "6318"
      ]
     },
     "execution_count": 23,
     "metadata": {},
     "output_type": "execute_result"
    }
   ],
   "source": [
    "len(df)"
   ]
  },
  {
   "cell_type": "code",
   "execution_count": 24,
   "metadata": {},
   "outputs": [
    {
     "data": {
      "text/html": [
       "<div>\n",
       "<style scoped>\n",
       "    .dataframe tbody tr th:only-of-type {\n",
       "        vertical-align: middle;\n",
       "    }\n",
       "\n",
       "    .dataframe tbody tr th {\n",
       "        vertical-align: top;\n",
       "    }\n",
       "\n",
       "    .dataframe thead th {\n",
       "        text-align: right;\n",
       "    }\n",
       "</style>\n",
       "<table border=\"1\" class=\"dataframe\">\n",
       "  <thead>\n",
       "    <tr style=\"text-align: right;\">\n",
       "      <th></th>\n",
       "      <th>ID</th>\n",
       "      <th>title</th>\n",
       "      <th>text</th>\n",
       "      <th>label</th>\n",
       "    </tr>\n",
       "  </thead>\n",
       "  <tbody>\n",
       "    <tr>\n",
       "      <th>2316</th>\n",
       "      <td>4490</td>\n",
       "      <td>State Department says it can't find emails fro...</td>\n",
       "      <td>The State Department told the Republican Natio...</td>\n",
       "      <td>None</td>\n",
       "    </tr>\n",
       "    <tr>\n",
       "      <th>2317</th>\n",
       "      <td>8062</td>\n",
       "      <td>The ‘P’ in PBS Should Stand for ‘Plutocratic’ ...</td>\n",
       "      <td>The ‘P’ in PBS Should Stand for ‘Plutocratic’ ...</td>\n",
       "      <td>None</td>\n",
       "    </tr>\n",
       "    <tr>\n",
       "      <th>2318</th>\n",
       "      <td>8622</td>\n",
       "      <td>Anti-Trump Protesters Are Tools of the Oligarc...</td>\n",
       "      <td>Anti-Trump Protesters Are Tools of the Oligar...</td>\n",
       "      <td>None</td>\n",
       "    </tr>\n",
       "    <tr>\n",
       "      <th>2319</th>\n",
       "      <td>4021</td>\n",
       "      <td>In Ethiopia, Obama seeks progress on peace, se...</td>\n",
       "      <td>ADDIS ABABA, Ethiopia —President Obama convene...</td>\n",
       "      <td>None</td>\n",
       "    </tr>\n",
       "    <tr>\n",
       "      <th>2320</th>\n",
       "      <td>4330</td>\n",
       "      <td>Jeb Bush Is Suddenly Attacking Trump. Here's W...</td>\n",
       "      <td>Jeb Bush Is Suddenly Attacking Trump. Here's W...</td>\n",
       "      <td>None</td>\n",
       "    </tr>\n",
       "  </tbody>\n",
       "</table>\n",
       "</div>"
      ],
      "text/plain": [
       "        ID                                              title  \\\n",
       "2316  4490  State Department says it can't find emails fro...   \n",
       "2317  8062  The ‘P’ in PBS Should Stand for ‘Plutocratic’ ...   \n",
       "2318  8622  Anti-Trump Protesters Are Tools of the Oligarc...   \n",
       "2319  4021  In Ethiopia, Obama seeks progress on peace, se...   \n",
       "2320  4330  Jeb Bush Is Suddenly Attacking Trump. Here's W...   \n",
       "\n",
       "                                                   text label  \n",
       "2316  The State Department told the Republican Natio...  None  \n",
       "2317  The ‘P’ in PBS Should Stand for ‘Plutocratic’ ...  None  \n",
       "2318   Anti-Trump Protesters Are Tools of the Oligar...  None  \n",
       "2319  ADDIS ABABA, Ethiopia —President Obama convene...  None  \n",
       "2320  Jeb Bush Is Suddenly Attacking Trump. Here's W...  None  "
      ]
     },
     "execution_count": 24,
     "metadata": {},
     "output_type": "execute_result"
    }
   ],
   "source": [
    "df.tail()"
   ]
  },
  {
   "cell_type": "markdown",
   "metadata": {},
   "source": [
    "# Data Preprocessing"
   ]
  },
  {
   "cell_type": "markdown",
   "metadata": {},
   "source": [
    "In this part we will be cleaning the articles with the help of different NLP techniques, of which we will first explain the concept and its importance."
   ]
  },
  {
   "cell_type": "markdown",
   "metadata": {},
   "source": [
    "In order to take into account the title in our accuracy prediction, we created an extra column that combines text and title. We will not do seperate predictions on the title, since these might classify as e.g. Fake news, weather the actual text with more explanation tells a Real story."
   ]
  },
  {
   "cell_type": "code",
   "execution_count": 25,
   "metadata": {},
   "outputs": [
    {
     "data": {
      "text/html": [
       "<div>\n",
       "<style scoped>\n",
       "    .dataframe tbody tr th:only-of-type {\n",
       "        vertical-align: middle;\n",
       "    }\n",
       "\n",
       "    .dataframe tbody tr th {\n",
       "        vertical-align: top;\n",
       "    }\n",
       "\n",
       "    .dataframe thead th {\n",
       "        text-align: right;\n",
       "    }\n",
       "</style>\n",
       "<table border=\"1\" class=\"dataframe\">\n",
       "  <thead>\n",
       "    <tr style=\"text-align: right;\">\n",
       "      <th></th>\n",
       "      <th>ID</th>\n",
       "      <th>title</th>\n",
       "      <th>text</th>\n",
       "      <th>label</th>\n",
       "      <th>title_and_text</th>\n",
       "    </tr>\n",
       "  </thead>\n",
       "  <tbody>\n",
       "    <tr>\n",
       "      <th>2316</th>\n",
       "      <td>4490</td>\n",
       "      <td>State Department says it can't find emails fro...</td>\n",
       "      <td>The State Department told the Republican Natio...</td>\n",
       "      <td>None</td>\n",
       "      <td>State Department says it can't find emails fro...</td>\n",
       "    </tr>\n",
       "    <tr>\n",
       "      <th>2317</th>\n",
       "      <td>8062</td>\n",
       "      <td>The ‘P’ in PBS Should Stand for ‘Plutocratic’ ...</td>\n",
       "      <td>The ‘P’ in PBS Should Stand for ‘Plutocratic’ ...</td>\n",
       "      <td>None</td>\n",
       "      <td>The ‘P’ in PBS Should Stand for ‘Plutocratic’ ...</td>\n",
       "    </tr>\n",
       "    <tr>\n",
       "      <th>2318</th>\n",
       "      <td>8622</td>\n",
       "      <td>Anti-Trump Protesters Are Tools of the Oligarc...</td>\n",
       "      <td>Anti-Trump Protesters Are Tools of the Oligar...</td>\n",
       "      <td>None</td>\n",
       "      <td>Anti-Trump Protesters Are Tools of the Oligarc...</td>\n",
       "    </tr>\n",
       "    <tr>\n",
       "      <th>2319</th>\n",
       "      <td>4021</td>\n",
       "      <td>In Ethiopia, Obama seeks progress on peace, se...</td>\n",
       "      <td>ADDIS ABABA, Ethiopia —President Obama convene...</td>\n",
       "      <td>None</td>\n",
       "      <td>In Ethiopia, Obama seeks progress on peace, se...</td>\n",
       "    </tr>\n",
       "    <tr>\n",
       "      <th>2320</th>\n",
       "      <td>4330</td>\n",
       "      <td>Jeb Bush Is Suddenly Attacking Trump. Here's W...</td>\n",
       "      <td>Jeb Bush Is Suddenly Attacking Trump. Here's W...</td>\n",
       "      <td>None</td>\n",
       "      <td>Jeb Bush Is Suddenly Attacking Trump. Here's W...</td>\n",
       "    </tr>\n",
       "  </tbody>\n",
       "</table>\n",
       "</div>"
      ],
      "text/plain": [
       "        ID                                              title  \\\n",
       "2316  4490  State Department says it can't find emails fro...   \n",
       "2317  8062  The ‘P’ in PBS Should Stand for ‘Plutocratic’ ...   \n",
       "2318  8622  Anti-Trump Protesters Are Tools of the Oligarc...   \n",
       "2319  4021  In Ethiopia, Obama seeks progress on peace, se...   \n",
       "2320  4330  Jeb Bush Is Suddenly Attacking Trump. Here's W...   \n",
       "\n",
       "                                                   text label  \\\n",
       "2316  The State Department told the Republican Natio...  None   \n",
       "2317  The ‘P’ in PBS Should Stand for ‘Plutocratic’ ...  None   \n",
       "2318   Anti-Trump Protesters Are Tools of the Oligar...  None   \n",
       "2319  ADDIS ABABA, Ethiopia —President Obama convene...  None   \n",
       "2320  Jeb Bush Is Suddenly Attacking Trump. Here's W...  None   \n",
       "\n",
       "                                         title_and_text  \n",
       "2316  State Department says it can't find emails fro...  \n",
       "2317  The ‘P’ in PBS Should Stand for ‘Plutocratic’ ...  \n",
       "2318  Anti-Trump Protesters Are Tools of the Oligarc...  \n",
       "2319  In Ethiopia, Obama seeks progress on peace, se...  \n",
       "2320  Jeb Bush Is Suddenly Attacking Trump. Here's W...  "
      ]
     },
     "execution_count": 25,
     "metadata": {},
     "output_type": "execute_result"
    }
   ],
   "source": [
    "df['title_and_text'] = df['title'] +' '+ df['text']\n",
    "df.tail()"
   ]
  },
  {
   "cell_type": "markdown",
   "metadata": {},
   "source": [
    "preprocess() can be found in python_helper.py\n",
    "Here you can read the explanations of the preprocess steps we took\n",
    "\n",
    "1. lowercase the text\n",
    "\n",
    "This preprocessing step is done so words van later be cross checked with the stopword and pos_tag dictionaries. For future analysis purposes, it could have been benefitial to analyze text with a lot of words in capital letters, by adding a flag variable.\n",
    "\n",
    "2. remove the words counting just one letter\n",
    "\n",
    "Idem step one.\n",
    "\n",
    "3. remove the words that contain numbers\n",
    "\n",
    "Idem step one.\n",
    "\n",
    "4. tokenize the text and remove punctuation\n",
    "\n",
    "We performed tokenization with the base python .string function, to split sentences into words (tokens). \n",
    "\n",
    "5. remove all stop words\n",
    "\n",
    "Relevant analysis of the text depends on the most recurring words. Stopwords including words as \"the\", \"as\" and \"and\" appear a lot in a text, but do not give relevant explanation. For this reason they are removed.\n",
    "\n",
    "6. remove tokens that are empty\n",
    "\n",
    "After tokenization, we have to make sure all tokens taken into account contribute to the label prediction.\n",
    "\n",
    "7. pos tag the text\n",
    "\n",
    "We use the pos_tag function included in the ntlk library. This classifies our tokenized words as a noun, verb, adjective or adverb and adds to the understaning of the articles.\n",
    "\n",
    "8. lemmatize the text\n",
    "\n",
    "In order to normalize the text, we apply lemmatization. In this way, words with the same root are processed equally e.g. when took or taken are read in the text, they are lemmatized to take, infinitive of the two verbs."
   ]
  },
  {
   "cell_type": "code",
   "execution_count": 26,
   "metadata": {},
   "outputs": [
    {
     "ename": "NameError",
     "evalue": "name 'preprocess' is not defined",
     "output_type": "error",
     "traceback": [
      "\u001b[1;31m---------------------------------------------------------------------------\u001b[0m",
      "\u001b[1;31mNameError\u001b[0m                                 Traceback (most recent call last)",
      "\u001b[1;32m<ipython-input-26-d154e023e530>\u001b[0m in \u001b[0;36m<module>\u001b[1;34m\u001b[0m\n\u001b[1;32m----> 1\u001b[1;33m \u001b[0mdf\u001b[0m\u001b[1;33m[\u001b[0m\u001b[1;34m'preprocessed_text'\u001b[0m\u001b[1;33m]\u001b[0m \u001b[1;33m=\u001b[0m \u001b[0mdf\u001b[0m\u001b[1;33m[\u001b[0m\u001b[1;34m'title_and_text'\u001b[0m\u001b[1;33m]\u001b[0m\u001b[1;33m.\u001b[0m\u001b[0mapply\u001b[0m\u001b[1;33m(\u001b[0m\u001b[1;32mlambda\u001b[0m \u001b[0mx\u001b[0m\u001b[1;33m:\u001b[0m \u001b[0mpreprocess\u001b[0m\u001b[1;33m(\u001b[0m\u001b[0mx\u001b[0m\u001b[1;33m)\u001b[0m\u001b[1;33m)\u001b[0m\u001b[1;33m\u001b[0m\u001b[1;33m\u001b[0m\u001b[0m\n\u001b[0m",
      "\u001b[1;32mC:\\ProgramData\\Anaconda3\\lib\\site-packages\\pandas\\core\\series.py\u001b[0m in \u001b[0;36mapply\u001b[1;34m(self, func, convert_dtype, args, **kwds)\u001b[0m\n\u001b[0;32m   4136\u001b[0m             \u001b[1;32melse\u001b[0m\u001b[1;33m:\u001b[0m\u001b[1;33m\u001b[0m\u001b[1;33m\u001b[0m\u001b[0m\n\u001b[0;32m   4137\u001b[0m                 \u001b[0mvalues\u001b[0m \u001b[1;33m=\u001b[0m \u001b[0mself\u001b[0m\u001b[1;33m.\u001b[0m\u001b[0mastype\u001b[0m\u001b[1;33m(\u001b[0m\u001b[0mobject\u001b[0m\u001b[1;33m)\u001b[0m\u001b[1;33m.\u001b[0m\u001b[0m_values\u001b[0m\u001b[1;33m\u001b[0m\u001b[1;33m\u001b[0m\u001b[0m\n\u001b[1;32m-> 4138\u001b[1;33m                 \u001b[0mmapped\u001b[0m \u001b[1;33m=\u001b[0m \u001b[0mlib\u001b[0m\u001b[1;33m.\u001b[0m\u001b[0mmap_infer\u001b[0m\u001b[1;33m(\u001b[0m\u001b[0mvalues\u001b[0m\u001b[1;33m,\u001b[0m \u001b[0mf\u001b[0m\u001b[1;33m,\u001b[0m \u001b[0mconvert\u001b[0m\u001b[1;33m=\u001b[0m\u001b[0mconvert_dtype\u001b[0m\u001b[1;33m)\u001b[0m\u001b[1;33m\u001b[0m\u001b[1;33m\u001b[0m\u001b[0m\n\u001b[0m\u001b[0;32m   4139\u001b[0m \u001b[1;33m\u001b[0m\u001b[0m\n\u001b[0;32m   4140\u001b[0m         \u001b[1;32mif\u001b[0m \u001b[0mlen\u001b[0m\u001b[1;33m(\u001b[0m\u001b[0mmapped\u001b[0m\u001b[1;33m)\u001b[0m \u001b[1;32mand\u001b[0m \u001b[0misinstance\u001b[0m\u001b[1;33m(\u001b[0m\u001b[0mmapped\u001b[0m\u001b[1;33m[\u001b[0m\u001b[1;36m0\u001b[0m\u001b[1;33m]\u001b[0m\u001b[1;33m,\u001b[0m \u001b[0mSeries\u001b[0m\u001b[1;33m)\u001b[0m\u001b[1;33m:\u001b[0m\u001b[1;33m\u001b[0m\u001b[1;33m\u001b[0m\u001b[0m\n",
      "\u001b[1;32mpandas\\_libs\\lib.pyx\u001b[0m in \u001b[0;36mpandas._libs.lib.map_infer\u001b[1;34m()\u001b[0m\n",
      "\u001b[1;32m<ipython-input-26-d154e023e530>\u001b[0m in \u001b[0;36m<lambda>\u001b[1;34m(x)\u001b[0m\n\u001b[1;32m----> 1\u001b[1;33m \u001b[0mdf\u001b[0m\u001b[1;33m[\u001b[0m\u001b[1;34m'preprocessed_text'\u001b[0m\u001b[1;33m]\u001b[0m \u001b[1;33m=\u001b[0m \u001b[0mdf\u001b[0m\u001b[1;33m[\u001b[0m\u001b[1;34m'title_and_text'\u001b[0m\u001b[1;33m]\u001b[0m\u001b[1;33m.\u001b[0m\u001b[0mapply\u001b[0m\u001b[1;33m(\u001b[0m\u001b[1;32mlambda\u001b[0m \u001b[0mx\u001b[0m\u001b[1;33m:\u001b[0m \u001b[0mpreprocess\u001b[0m\u001b[1;33m(\u001b[0m\u001b[0mx\u001b[0m\u001b[1;33m)\u001b[0m\u001b[1;33m)\u001b[0m\u001b[1;33m\u001b[0m\u001b[1;33m\u001b[0m\u001b[0m\n\u001b[0m",
      "\u001b[1;31mNameError\u001b[0m: name 'preprocess' is not defined"
     ]
    }
   ],
   "source": [
    "df['preprocessed_text'] = df['title_and_text'].apply(lambda x: preprocess(x))"
   ]
  },
  {
   "cell_type": "code",
   "execution_count": 27,
   "metadata": {},
   "outputs": [],
   "source": [
    "## Save preprocessed df\n",
    "df.to_csv(\"fake_or_real_news_train_PREPROCESSED.csv\", index=False)"
   ]
  },
  {
   "cell_type": "code",
   "execution_count": 28,
   "metadata": {},
   "outputs": [],
   "source": [
    "df = pd.read_csv(\"fake_or_real_news_train_PREPROCESSED.csv\")\n",
    "df = df.astype(object).replace(np.nan, 'None')"
   ]
  },
  {
   "cell_type": "code",
   "execution_count": 29,
   "metadata": {},
   "outputs": [
    {
     "data": {
      "text/html": [
       "<div>\n",
       "<style scoped>\n",
       "    .dataframe tbody tr th:only-of-type {\n",
       "        vertical-align: middle;\n",
       "    }\n",
       "\n",
       "    .dataframe tbody tr th {\n",
       "        vertical-align: top;\n",
       "    }\n",
       "\n",
       "    .dataframe thead th {\n",
       "        text-align: right;\n",
       "    }\n",
       "</style>\n",
       "<table border=\"1\" class=\"dataframe\">\n",
       "  <thead>\n",
       "    <tr style=\"text-align: right;\">\n",
       "      <th></th>\n",
       "      <th>ID</th>\n",
       "      <th>title</th>\n",
       "      <th>text</th>\n",
       "      <th>label</th>\n",
       "      <th>title_and_text</th>\n",
       "    </tr>\n",
       "  </thead>\n",
       "  <tbody>\n",
       "    <tr>\n",
       "      <th>6313</th>\n",
       "      <td>4490</td>\n",
       "      <td>State Department says it can't find emails fro...</td>\n",
       "      <td>The State Department told the Republican Natio...</td>\n",
       "      <td>None</td>\n",
       "      <td>State Department says it can't find emails fro...</td>\n",
       "    </tr>\n",
       "    <tr>\n",
       "      <th>6314</th>\n",
       "      <td>8062</td>\n",
       "      <td>The ‘P’ in PBS Should Stand for ‘Plutocratic’ ...</td>\n",
       "      <td>The ‘P’ in PBS Should Stand for ‘Plutocratic’ ...</td>\n",
       "      <td>None</td>\n",
       "      <td>The ‘P’ in PBS Should Stand for ‘Plutocratic’ ...</td>\n",
       "    </tr>\n",
       "    <tr>\n",
       "      <th>6315</th>\n",
       "      <td>8622</td>\n",
       "      <td>Anti-Trump Protesters Are Tools of the Oligarc...</td>\n",
       "      <td>Anti-Trump Protesters Are Tools of the Oligar...</td>\n",
       "      <td>None</td>\n",
       "      <td>Anti-Trump Protesters Are Tools of the Oligarc...</td>\n",
       "    </tr>\n",
       "    <tr>\n",
       "      <th>6316</th>\n",
       "      <td>4021</td>\n",
       "      <td>In Ethiopia, Obama seeks progress on peace, se...</td>\n",
       "      <td>ADDIS ABABA, Ethiopia —President Obama convene...</td>\n",
       "      <td>None</td>\n",
       "      <td>In Ethiopia, Obama seeks progress on peace, se...</td>\n",
       "    </tr>\n",
       "    <tr>\n",
       "      <th>6317</th>\n",
       "      <td>4330</td>\n",
       "      <td>Jeb Bush Is Suddenly Attacking Trump. Here's W...</td>\n",
       "      <td>Jeb Bush Is Suddenly Attacking Trump. Here's W...</td>\n",
       "      <td>None</td>\n",
       "      <td>Jeb Bush Is Suddenly Attacking Trump. Here's W...</td>\n",
       "    </tr>\n",
       "  </tbody>\n",
       "</table>\n",
       "</div>"
      ],
      "text/plain": [
       "        ID                                              title  \\\n",
       "6313  4490  State Department says it can't find emails fro...   \n",
       "6314  8062  The ‘P’ in PBS Should Stand for ‘Plutocratic’ ...   \n",
       "6315  8622  Anti-Trump Protesters Are Tools of the Oligarc...   \n",
       "6316  4021  In Ethiopia, Obama seeks progress on peace, se...   \n",
       "6317  4330  Jeb Bush Is Suddenly Attacking Trump. Here's W...   \n",
       "\n",
       "                                                   text label  \\\n",
       "6313  The State Department told the Republican Natio...  None   \n",
       "6314  The ‘P’ in PBS Should Stand for ‘Plutocratic’ ...  None   \n",
       "6315   Anti-Trump Protesters Are Tools of the Oligar...  None   \n",
       "6316  ADDIS ABABA, Ethiopia —President Obama convene...  None   \n",
       "6317  Jeb Bush Is Suddenly Attacking Trump. Here's W...  None   \n",
       "\n",
       "                                         title_and_text  \n",
       "6313  State Department says it can't find emails fro...  \n",
       "6314  The ‘P’ in PBS Should Stand for ‘Plutocratic’ ...  \n",
       "6315  Anti-Trump Protesters Are Tools of the Oligarc...  \n",
       "6316  In Ethiopia, Obama seeks progress on peace, se...  \n",
       "6317  Jeb Bush Is Suddenly Attacking Trump. Here's W...  "
      ]
     },
     "execution_count": 29,
     "metadata": {},
     "output_type": "execute_result"
    }
   ],
   "source": [
    "df.tail()"
   ]
  },
  {
   "cell_type": "markdown",
   "metadata": {},
   "source": [
    "### Split Train and Test again after pre-processing is done"
   ]
  },
  {
   "cell_type": "code",
   "execution_count": 30,
   "metadata": {},
   "outputs": [
    {
     "ename": "NameError",
     "evalue": "name 'split_train_holdout_test' is not defined",
     "output_type": "error",
     "traceback": [
      "\u001b[1;31m---------------------------------------------------------------------------\u001b[0m",
      "\u001b[1;31mNameError\u001b[0m                                 Traceback (most recent call last)",
      "\u001b[1;32m<ipython-input-30-a91da483e93b>\u001b[0m in \u001b[0;36m<module>\u001b[1;34m\u001b[0m\n\u001b[1;32m----> 1\u001b[1;33m \u001b[0mencoder\u001b[0m\u001b[1;33m,\u001b[0m \u001b[0mtrain\u001b[0m\u001b[1;33m,\u001b[0m \u001b[0mtest\u001b[0m\u001b[1;33m,\u001b[0m \u001b[0mtrain_cv\u001b[0m\u001b[1;33m,\u001b[0m \u001b[0mtrain_holdout\u001b[0m\u001b[1;33m,\u001b[0m \u001b[0mtrain_cv_label\u001b[0m\u001b[1;33m,\u001b[0m \u001b[0mtrain_holdout_label\u001b[0m \u001b[1;33m=\u001b[0m \u001b[0msplit_train_holdout_test\u001b[0m\u001b[1;33m(\u001b[0m\u001b[0mencoder\u001b[0m\u001b[1;33m,\u001b[0m \u001b[0mdf\u001b[0m\u001b[1;33m)\u001b[0m\u001b[1;33m\u001b[0m\u001b[1;33m\u001b[0m\u001b[0m\n\u001b[0m",
      "\u001b[1;31mNameError\u001b[0m: name 'split_train_holdout_test' is not defined"
     ]
    }
   ],
   "source": [
    "encoder, train, test, train_cv, train_holdout, train_cv_label, train_holdout_label = split_train_holdout_test(encoder, df)"
   ]
  },
  {
   "cell_type": "code",
   "execution_count": 31,
   "metadata": {},
   "outputs": [
    {
     "ename": "NameError",
     "evalue": "name 'encoder' is not defined",
     "output_type": "error",
     "traceback": [
      "\u001b[1;31m---------------------------------------------------------------------------\u001b[0m",
      "\u001b[1;31mNameError\u001b[0m                                 Traceback (most recent call last)",
      "\u001b[1;32m<ipython-input-31-78ae3478508f>\u001b[0m in \u001b[0;36m<module>\u001b[1;34m\u001b[0m\n\u001b[1;32m----> 1\u001b[1;33m \u001b[0mencoder\u001b[0m\u001b[1;33m\u001b[0m\u001b[1;33m\u001b[0m\u001b[0m\n\u001b[0m",
      "\u001b[1;31mNameError\u001b[0m: name 'encoder' is not defined"
     ]
    }
   ],
   "source": [
    "encoder"
   ]
  },
  {
   "cell_type": "markdown",
   "metadata": {},
   "source": [
    "# Baseline Modelling"
   ]
  },
  {
   "cell_type": "markdown",
   "metadata": {},
   "source": [
    "First, we create a dataframe called models to keep track of different models and their scores."
   ]
  },
  {
   "cell_type": "code",
   "execution_count": 23,
   "metadata": {},
   "outputs": [],
   "source": [
    "models = pd.DataFrame(columns=['model_name', 'model_object', 'score'])"
   ]
  },
  {
   "cell_type": "markdown",
   "metadata": {},
   "source": [
    "### Vectorizing dataset"
   ]
  },
  {
   "cell_type": "markdown",
   "metadata": {},
   "source": [
    "For any text to be fed to a model, the text has to be transformed into numerical values. This process is called vectorizing and will be redone everytime a new feature is added."
   ]
  },
  {
   "cell_type": "code",
   "execution_count": 24,
   "metadata": {},
   "outputs": [],
   "source": [
    "count_vect = CountVectorizer(analyzer = \"word\")\n",
    "\n",
    "count_vectorizer = count_vect.fit(df.preprocessed_text)\n",
    "\n",
    "train_cv_vector = count_vectorizer.transform(train_cv.preprocessed_text)\n",
    "train_holdout_vector = count_vectorizer.transform(train_holdout.preprocessed_text)\n",
    "test_vector = count_vectorizer.transform(test.preprocessed_text)"
   ]
  },
  {
   "cell_type": "code",
   "execution_count": 25,
   "metadata": {},
   "outputs": [
    {
     "data": {
      "text/plain": [
       "['___',\n",
       " '_blank',\n",
       " '_derosa',\n",
       " '_rt_op_edge',\n",
       " '_strauss',\n",
       " 'aa',\n",
       " 'aaa',\n",
       " 'aaahhh',\n",
       " 'aab',\n",
       " 'aachen']"
      ]
     },
     "execution_count": 25,
     "metadata": {},
     "output_type": "execute_result"
    }
   ],
   "source": [
    "count_vect.get_feature_names()[:10]"
   ]
  },
  {
   "cell_type": "markdown",
   "metadata": {},
   "source": [
    "## Baseline Model 1: SVC"
   ]
  },
  {
   "cell_type": "markdown",
   "metadata": {},
   "source": [
    "We create a baseline classification model with a support vector machine, a good model to handle complex classifications."
   ]
  },
  {
   "cell_type": "code",
   "execution_count": 26,
   "metadata": {},
   "outputs": [
    {
     "name": "stdout",
     "output_type": "stream",
     "text": [
      "\u001b[31mBaseline Model 1: SVC\u001b[0m\n",
      "\u001b[33mGridSearchCV(cv=ShuffleSplit(n_splits=5, random_state=12345, test_size=0.2, train_size=None),\n",
      "             error_score='raise-deprecating',\n",
      "             estimator=SVC(C=1.0, cache_size=200, class_weight=None, coef0=0.0,\n",
      "                           decision_function_shape='ovr', degree=3,\n",
      "                           gamma='auto_deprecated', kernel='rbf', max_iter=-1,\n",
      "                           probability=False, random_state=None, shrinking=True,\n",
      "                           tol=0.001, verbose=False),\n",
      "             iid='warn', n_jobs=None,\n",
      "             param_grid=[{'C': [1, 10, 50, 100], 'kernel': ['linear']},\n",
      "                         {'C': [10, 100, 500, 1000], 'gamma': [0.0001],\n",
      "                          'kernel': ['rbf']}],\n",
      "             pre_dispatch='2*n_jobs', refit=True, return_train_score=False,\n",
      "             scoring=None, verbose=0)\u001b[0m\n",
      "\u001b[34m\n",
      "CV-scores\u001b[0m\n",
      "Accuracy: 0.909 (+/-0.022) for params: {'C': 100, 'gamma': 0.0001, 'kernel': 'rbf'}\n",
      "Accuracy: 0.902 (+/-0.030) for params: {'C': 500, 'gamma': 0.0001, 'kernel': 'rbf'}\n",
      "Accuracy: 0.893 (+/-0.030) for params: {'C': 1000, 'gamma': 0.0001, 'kernel': 'rbf'}\n",
      "Accuracy: 0.892 (+/-0.036) for params: {'C': 1, 'kernel': 'linear'}\n",
      "Accuracy: 0.892 (+/-0.036) for params: {'C': 10, 'kernel': 'linear'}\n",
      "Accuracy: 0.892 (+/-0.036) for params: {'C': 50, 'kernel': 'linear'}\n",
      "Accuracy: 0.892 (+/-0.036) for params: {'C': 100, 'kernel': 'linear'}\n",
      "Accuracy: 0.886 (+/-0.011) for params: {'C': 10, 'gamma': 0.0001, 'kernel': 'rbf'}\n",
      "\n",
      "\u001b[34m\n",
      "Best Estimator Params\u001b[0m\n",
      "\u001b[33mSVC(C=100, cache_size=200, class_weight=None, coef0=0.0,\n",
      "    decision_function_shape='ovr', degree=3, gamma=0.0001, kernel='rbf',\n",
      "    max_iter=-1, probability=False, random_state=None, shrinking=True,\n",
      "    tol=0.001, verbose=False)\u001b[0m\n",
      "\u001b[34m\n",
      "Predictions:\u001b[0m\n",
      "['REAL' 'REAL' 'FAKE' ... 'REAL' 'FAKE' 'REAL']\n"
     ]
    },
    {
     "data": {
      "image/png": "[encoded data removed]",
      "text/plain": [
       "<Figure size 396x288 with 2 Axes>"
      ]
     },
     "metadata": {
      "needs_background": "light"
     },
     "output_type": "display_data"
    },
    {
     "name": "stdout",
     "output_type": "stream",
     "text": [
      "\u001b[34m\n",
      "Accuracy:\u001b[0m\n",
      "\u001b[32m0.9136363636363637\u001b[0m\n"
     ]
    }
   ],
   "source": [
    "SVC_classifier = runModel(encoder,\n",
    "               train_cv_vector,\n",
    "               train_cv_label,\n",
    "               train_holdout_vector,\n",
    "               train_holdout.label,\n",
    "               \"svc\",\n",
    "               \"Baseline Model 1: SVC\")\n",
    "models.loc[len(models)] = SVC"
   ]
  },
  {
   "cell_type": "markdown",
   "metadata": {},
   "source": [
    "## Baseline Model 2: Naïve Bayes"
   ]
  },
  {
   "cell_type": "markdown",
   "metadata": {},
   "source": [
    "from IPython.display import Image\n",
    "Image(\"/Users/Gerald/Personal Drive/IE MBD/Term III/Natural Language Processing/Ass 1/NLP Fake News Predection | Gerald | Hatem/real_vs_fake.png\")"
   ]
  },
  {
   "cell_type": "markdown",
   "metadata": {},
   "source": [
    "With this hand drawn example (text: *rude hell worth*), we explain why the Naïve Bayes model is helpful for our classification. The labels Real and Fake text are hidden, but every word, based on our training data, has a certain probability to belong to one of the two categories. The final score is calculated, multiplying all probabilities of the words (0.006 for real, 0.288 for fake). The algo thus does not take into account the order of the words in the multiplication. *rude hell worth* will be classified as fake."
   ]
  },
  {
   "cell_type": "code",
   "execution_count": 27,
   "metadata": {},
   "outputs": [
    {
     "name": "stdout",
     "output_type": "stream",
     "text": [
      "\u001b[31mBaseline Model 2: Naiive Bayes\u001b[0m\n",
      "\u001b[33mGridSearchCV(cv=ShuffleSplit(n_splits=5, random_state=12345, test_size=0.2, train_size=None),\n",
      "             error_score='raise-deprecating',\n",
      "             estimator=MultinomialNB(alpha=1.0, class_prior=None,\n",
      "                                     fit_prior=True),\n",
      "             iid='warn', n_jobs=None, param_grid={}, pre_dispatch='2*n_jobs',\n",
      "             refit=True, return_train_score=False, scoring=None, verbose=0)\u001b[0m\n",
      "\u001b[34m\n",
      "CV-scores\u001b[0m\n",
      "Accuracy: 0.887 (+/-0.021) for params: {}\n",
      "\n",
      "\u001b[34m\n",
      "Best Estimator Params\u001b[0m\n",
      "\u001b[33mMultinomialNB(alpha=1.0, class_prior=None, fit_prior=True)\u001b[0m\n",
      "\u001b[34m\n",
      "Predictions:\u001b[0m\n",
      "['REAL' 'REAL' 'REAL' ... 'REAL' 'REAL' 'REAL']\n"
     ]
    },
    {
     "data": {
      "image/png": "[encoded data removed]",
      "text/plain": [
       "<Figure size 396x288 with 2 Axes>"
      ]
     },
     "metadata": {
      "needs_background": "light"
     },
     "output_type": "display_data"
    },
    {
     "name": "stdout",
     "output_type": "stream",
     "text": [
      "\u001b[34m\n",
      "Accuracy:\u001b[0m\n",
      "\u001b[32m0.8946969696969697\u001b[0m\n"
     ]
    }
   ],
   "source": [
    "NB = runModel(encoder,\n",
    "              train_cv_vector,\n",
    "              train_cv_label,\n",
    "              train_holdout_vector,\n",
    "              train_holdout.label,\n",
    "              \"nb\",\n",
    "              \"Baseline Model 2: Naiive Bayes\")\n",
    "models.loc[len(models)] = NB"
   ]
  },
  {
   "cell_type": "markdown",
   "metadata": {},
   "source": [
    "## Baseline Model 3: MaxEnt Classifier"
   ]
  },
  {
   "cell_type": "code",
   "execution_count": null,
   "metadata": {},
   "outputs": [],
   "source": []
  },
  {
   "cell_type": "code",
   "execution_count": 28,
   "metadata": {},
   "outputs": [
    {
     "name": "stdout",
     "output_type": "stream",
     "text": [
      "\u001b[31mBaseline Model 3: MaxEnt Classifier\u001b[0m\n",
      "\u001b[33mGridSearchCV(cv=ShuffleSplit(n_splits=5, random_state=12345, test_size=0.2, train_size=None),\n",
      "             error_score='raise-deprecating',\n",
      "             estimator=LogisticRegression(C=1.0, class_weight=None, dual=False,\n",
      "                                          fit_intercept=True,\n",
      "                                          intercept_scaling=1, l1_ratio=None,\n",
      "                                          max_iter=100, multi_class='warn',\n",
      "                                          n_jobs=None, penalty='l2',\n",
      "                                          random_state=None, solver='warn',\n",
      "                                          tol=0.0001, verbose=0,\n",
      "                                          warm_start=False),\n",
      "             iid='warn', n_jobs=None,\n",
      "             param_grid={'C': [0.001, 0.01, 0.1, 1, 10, 100, 1000],\n",
      "                         'penalty': ['l1', 'l2']},\n",
      "             pre_dispatch='2*n_jobs', refit=True, return_train_score=False,\n",
      "             scoring=None, verbose=0)\u001b[0m\n",
      "\u001b[34m\n",
      "CV-scores\u001b[0m\n",
      "Accuracy: 0.932 (+/-0.013) for params: {'C': 0.1, 'penalty': 'l2'}\n",
      "Accuracy: 0.926 (+/-0.014) for params: {'C': 0.01, 'penalty': 'l2'}\n",
      "Accuracy: 0.925 (+/-0.018) for params: {'C': 1, 'penalty': 'l2'}\n",
      "Accuracy: 0.916 (+/-0.026) for params: {'C': 10, 'penalty': 'l2'}\n",
      "Accuracy: 0.915 (+/-0.026) for params: {'C': 1, 'penalty': 'l1'}\n",
      "Accuracy: 0.911 (+/-0.033) for params: {'C': 100, 'penalty': 'l1'}\n",
      "Accuracy: 0.910 (+/-0.025) for params: {'C': 10, 'penalty': 'l1'}\n",
      "Accuracy: 0.909 (+/-0.017) for params: {'C': 0.001, 'penalty': 'l2'}\n",
      "Accuracy: 0.904 (+/-0.009) for params: {'C': 0.1, 'penalty': 'l1'}\n",
      "Accuracy: 0.897 (+/-0.036) for params: {'C': 100, 'penalty': 'l2'}\n",
      "Accuracy: 0.890 (+/-0.019) for params: {'C': 1000, 'penalty': 'l1'}\n",
      "Accuracy: 0.881 (+/-0.019) for params: {'C': 1000, 'penalty': 'l2'}\n",
      "Accuracy: 0.843 (+/-0.028) for params: {'C': 0.01, 'penalty': 'l1'}\n",
      "Accuracy: 0.610 (+/-0.019) for params: {'C': 0.001, 'penalty': 'l1'}\n",
      "\n",
      "\u001b[34m\n",
      "Best Estimator Params\u001b[0m\n",
      "\u001b[33mLogisticRegression(C=0.1, class_weight=None, dual=False, fit_intercept=True,\n",
      "                   intercept_scaling=1, l1_ratio=None, max_iter=100,\n",
      "                   multi_class='warn', n_jobs=None, penalty='l2',\n",
      "                   random_state=None, solver='warn', tol=0.0001, verbose=0,\n",
      "                   warm_start=False)\u001b[0m\n",
      "\u001b[34m\n",
      "Predictions:\u001b[0m\n",
      "['REAL' 'REAL' 'FAKE' ... 'REAL' 'FAKE' 'REAL']\n"
     ]
    },
    {
     "data": {
      "image/png": "[encoded data removed]",
      "text/plain": [
       "<Figure size 396x288 with 2 Axes>"
      ]
     },
     "metadata": {
      "needs_background": "light"
     },
     "output_type": "display_data"
    },
    {
     "name": "stdout",
     "output_type": "stream",
     "text": [
      "\u001b[34m\n",
      "Accuracy:\u001b[0m\n",
      "\u001b[32m0.9234848484848485\u001b[0m\n"
     ]
    }
   ],
   "source": [
    "maxEnt = runModel(encoder,\n",
    "              train_cv_vector,\n",
    "              train_cv_label,\n",
    "              train_holdout_vector,\n",
    "              train_holdout.label,\n",
    "              \"maxEnt\",\n",
    "              \"Baseline Model 3: MaxEnt Classifier\")\n",
    "models.loc[len(models)] = maxEnt"
   ]
  },
  {
   "cell_type": "markdown",
   "metadata": {},
   "source": [
    "# Baseline Models Summary"
   ]
  },
  {
   "cell_type": "code",
   "execution_count": 29,
   "metadata": {},
   "outputs": [
    {
     "data": {
      "text/html": [
       "<div>\n",
       "<style scoped>\n",
       "    .dataframe tbody tr th:only-of-type {\n",
       "        vertical-align: middle;\n",
       "    }\n",
       "\n",
       "    .dataframe tbody tr th {\n",
       "        vertical-align: top;\n",
       "    }\n",
       "\n",
       "    .dataframe thead th {\n",
       "        text-align: right;\n",
       "    }\n",
       "</style>\n",
       "<table border=\"1\" class=\"dataframe\">\n",
       "  <thead>\n",
       "    <tr style=\"text-align: right;\">\n",
       "      <th></th>\n",
       "      <th>model_name</th>\n",
       "      <th>model_object</th>\n",
       "      <th>score</th>\n",
       "    </tr>\n",
       "  </thead>\n",
       "  <tbody>\n",
       "    <tr>\n",
       "      <td>0</td>\n",
       "      <td>&lt;class 'sklearn.svm.classes.SVC'&gt;</td>\n",
       "      <td>&lt;class 'sklearn.svm.classes.SVC'&gt;</td>\n",
       "      <td>&lt;class 'sklearn.svm.classes.SVC'&gt;</td>\n",
       "    </tr>\n",
       "    <tr>\n",
       "      <td>1</td>\n",
       "      <td>Baseline Model 2: Naiive Bayes</td>\n",
       "      <td>GridSearchCV(cv=ShuffleSplit(n_splits=5, rando...</td>\n",
       "      <td>0.894697</td>\n",
       "    </tr>\n",
       "    <tr>\n",
       "      <td>2</td>\n",
       "      <td>Baseline Model 3: MaxEnt Classifier</td>\n",
       "      <td>GridSearchCV(cv=ShuffleSplit(n_splits=5, rando...</td>\n",
       "      <td>0.923485</td>\n",
       "    </tr>\n",
       "  </tbody>\n",
       "</table>\n",
       "</div>"
      ],
      "text/plain": [
       "                            model_name  \\\n",
       "0    <class 'sklearn.svm.classes.SVC'>   \n",
       "1       Baseline Model 2: Naiive Bayes   \n",
       "2  Baseline Model 3: MaxEnt Classifier   \n",
       "\n",
       "                                        model_object  \\\n",
       "0                  <class 'sklearn.svm.classes.SVC'>   \n",
       "1  GridSearchCV(cv=ShuffleSplit(n_splits=5, rando...   \n",
       "2  GridSearchCV(cv=ShuffleSplit(n_splits=5, rando...   \n",
       "\n",
       "                               score  \n",
       "0  <class 'sklearn.svm.classes.SVC'>  \n",
       "1                           0.894697  \n",
       "2                           0.923485  "
      ]
     },
     "execution_count": 29,
     "metadata": {},
     "output_type": "execute_result"
    }
   ],
   "source": [
    "models"
   ]
  },
  {
   "cell_type": "markdown",
   "metadata": {},
   "source": [
    "# Feature Engineeering"
   ]
  },
  {
   "cell_type": "markdown",
   "metadata": {},
   "source": [
    "- Explicit POS tagging\n",
    "- TF-IDF weighting\n",
    "- Bigram Count Vectorizer"
   ]
  },
  {
   "cell_type": "markdown",
   "metadata": {},
   "source": [
    "==> Select Final Model and predict on test"
   ]
  },
  {
   "cell_type": "markdown",
   "metadata": {},
   "source": [
    "## 1. POS Tagging\n",
    "\n",
    "Adding a prefix to each word with its type (Noun, Verb, Adjective,...).\n",
    "e.g: I went to school => PRP-I VBD-went TO-to NN-school\n",
    "\n",
    "Also, after lemmatization it will be 'VB-go NN-school', which indicates the semantics and distingueshes the purpose of the sentence.\n",
    "\n",
    "This will help the classifier differentiate between different types of sentences."
   ]
  },
  {
   "cell_type": "code",
   "execution_count": 32,
   "metadata": {},
   "outputs": [],
   "source": [
    "df['pos_tagged_text'] = df['preprocessed_text'].apply(lambda x: pos_tag_words(x))"
   ]
  },
  {
   "cell_type": "code",
   "execution_count": 33,
   "metadata": {},
   "outputs": [
    {
     "data": {
      "text/html": [
       "<div>\n",
       "<style scoped>\n",
       "    .dataframe tbody tr th:only-of-type {\n",
       "        vertical-align: middle;\n",
       "    }\n",
       "\n",
       "    .dataframe tbody tr th {\n",
       "        vertical-align: top;\n",
       "    }\n",
       "\n",
       "    .dataframe thead th {\n",
       "        text-align: right;\n",
       "    }\n",
       "</style>\n",
       "<table border=\"1\" class=\"dataframe\">\n",
       "  <thead>\n",
       "    <tr style=\"text-align: right;\">\n",
       "      <th></th>\n",
       "      <th>ID</th>\n",
       "      <th>title</th>\n",
       "      <th>text</th>\n",
       "      <th>label</th>\n",
       "      <th>title_and_text</th>\n",
       "      <th>preprocessed_text</th>\n",
       "      <th>pos_tagged_text</th>\n",
       "    </tr>\n",
       "  </thead>\n",
       "  <tbody>\n",
       "    <tr>\n",
       "      <td>0</td>\n",
       "      <td>8476</td>\n",
       "      <td>You Can Smell Hillary’s Fear</td>\n",
       "      <td>Daniel Greenfield | a Shillman Journalism Fell...</td>\n",
       "      <td>FAKE</td>\n",
       "      <td>You Can Smell Hillary’s Fear Daniel Greenfield...</td>\n",
       "      <td>smell hillary’s fear daniel greenfield shillma...</td>\n",
       "      <td>NN-smell JJ-hillary NNP-’ NN-s NN-fear JJ-dani...</td>\n",
       "    </tr>\n",
       "    <tr>\n",
       "      <td>1</td>\n",
       "      <td>10294</td>\n",
       "      <td>Watch The Exact Moment Paul Ryan Committed Pol...</td>\n",
       "      <td>Google Pinterest Digg Linkedin Reddit Stumbleu...</td>\n",
       "      <td>FAKE</td>\n",
       "      <td>Watch The Exact Moment Paul Ryan Committed Pol...</td>\n",
       "      <td>watch exact moment paul ryan commit political ...</td>\n",
       "      <td>NN-watch JJ-exact NN-moment NN-paul JJ-ryan NN...</td>\n",
       "    </tr>\n",
       "    <tr>\n",
       "      <td>2</td>\n",
       "      <td>3608</td>\n",
       "      <td>Kerry to go to Paris in gesture of sympathy</td>\n",
       "      <td>U.S. Secretary of State John F. Kerry said Mon...</td>\n",
       "      <td>REAL</td>\n",
       "      <td>Kerry to go to Paris in gesture of sympathy U....</td>\n",
       "      <td>kerry go paris gesture sympathy u.s secretary ...</td>\n",
       "      <td>NN-kerry VBP-go JJ-paris NN-gesture JJ-sympath...</td>\n",
       "    </tr>\n",
       "    <tr>\n",
       "      <td>3</td>\n",
       "      <td>10142</td>\n",
       "      <td>Bernie supporters on Twitter erupt in anger ag...</td>\n",
       "      <td>— Kaydee King (@KaydeeKing) November 9 | 2016 ...</td>\n",
       "      <td>FAKE</td>\n",
       "      <td>Bernie supporters on Twitter erupt in anger ag...</td>\n",
       "      <td>bernie supporter twitter erupt anger dnc try w...</td>\n",
       "      <td>NN-bernie NN-supporter NN-twitter JJ-erupt NN-...</td>\n",
       "    </tr>\n",
       "    <tr>\n",
       "      <td>4</td>\n",
       "      <td>875</td>\n",
       "      <td>The Battle of New York: Why This Primary Matte...</td>\n",
       "      <td>Cruz promised his supporters. \"\"We're beating...</td>\n",
       "      <td>REAL</td>\n",
       "      <td>The Battle of New York: Why This Primary Matte...</td>\n",
       "      <td>battle new york primary matter primary day new...</td>\n",
       "      <td>NN-battle JJ-new NN-york JJ-primary NN-matter ...</td>\n",
       "    </tr>\n",
       "  </tbody>\n",
       "</table>\n",
       "</div>"
      ],
      "text/plain": [
       "      ID                                              title  \\\n",
       "0   8476                       You Can Smell Hillary’s Fear   \n",
       "1  10294  Watch The Exact Moment Paul Ryan Committed Pol...   \n",
       "2   3608        Kerry to go to Paris in gesture of sympathy   \n",
       "3  10142  Bernie supporters on Twitter erupt in anger ag...   \n",
       "4    875  The Battle of New York: Why This Primary Matte...   \n",
       "\n",
       "                                                text label  \\\n",
       "0  Daniel Greenfield | a Shillman Journalism Fell...  FAKE   \n",
       "1  Google Pinterest Digg Linkedin Reddit Stumbleu...  FAKE   \n",
       "2  U.S. Secretary of State John F. Kerry said Mon...  REAL   \n",
       "3  — Kaydee King (@KaydeeKing) November 9 | 2016 ...  FAKE   \n",
       "4   Cruz promised his supporters. \"\"We're beating...  REAL   \n",
       "\n",
       "                                      title_and_text  \\\n",
       "0  You Can Smell Hillary’s Fear Daniel Greenfield...   \n",
       "1  Watch The Exact Moment Paul Ryan Committed Pol...   \n",
       "2  Kerry to go to Paris in gesture of sympathy U....   \n",
       "3  Bernie supporters on Twitter erupt in anger ag...   \n",
       "4  The Battle of New York: Why This Primary Matte...   \n",
       "\n",
       "                                   preprocessed_text  \\\n",
       "0  smell hillary’s fear daniel greenfield shillma...   \n",
       "1  watch exact moment paul ryan commit political ...   \n",
       "2  kerry go paris gesture sympathy u.s secretary ...   \n",
       "3  bernie supporter twitter erupt anger dnc try w...   \n",
       "4  battle new york primary matter primary day new...   \n",
       "\n",
       "                                     pos_tagged_text  \n",
       "0  NN-smell JJ-hillary NNP-’ NN-s NN-fear JJ-dani...  \n",
       "1  NN-watch JJ-exact NN-moment NN-paul JJ-ryan NN...  \n",
       "2  NN-kerry VBP-go JJ-paris NN-gesture JJ-sympath...  \n",
       "3  NN-bernie NN-supporter NN-twitter JJ-erupt NN-...  \n",
       "4  NN-battle JJ-new NN-york JJ-primary NN-matter ...  "
      ]
     },
     "execution_count": 33,
     "metadata": {},
     "output_type": "execute_result"
    }
   ],
   "source": [
    "df.head()"
   ]
  },
  {
   "cell_type": "markdown",
   "metadata": {},
   "source": [
    "### Rerun Models on pos-tagged text (FE1)"
   ]
  },
  {
   "cell_type": "code",
   "execution_count": 34,
   "metadata": {},
   "outputs": [],
   "source": [
    "encoder, train, test, train_cv, train_holdout, train_cv_label, train_holdout_label = split_train_holdout_test(encoder, df, False)\n",
    "\n",
    "count_vect = CountVectorizer(analyzer = \"word\")\n",
    "\n",
    "count_vectorizer = count_vect.fit(df.preprocessed_text)\n",
    "\n",
    "train_cv_vector = count_vectorizer.transform(train_cv.pos_tagged_text)\n",
    "train_holdout_vector = count_vectorizer.transform(train_holdout.pos_tagged_text)\n",
    "test_vector = count_vectorizer.transform(test.pos_tagged_text)"
   ]
  },
  {
   "cell_type": "markdown",
   "metadata": {},
   "source": [
    "a. SVC with FE1"
   ]
  },
  {
   "cell_type": "code",
   "execution_count": 35,
   "metadata": {},
   "outputs": [
    {
     "name": "stdout",
     "output_type": "stream",
     "text": [
      "\u001b[31mSVC on pos-tagged text\u001b[0m\n",
      "\u001b[33mGridSearchCV(cv=ShuffleSplit(n_splits=5, random_state=12345, test_size=0.2, train_size=None),\n",
      "             error_score='raise-deprecating',\n",
      "             estimator=SVC(C=1.0, cache_size=200, class_weight=None, coef0=0.0,\n",
      "                           decision_function_shape='ovr', degree=3,\n",
      "                           gamma='auto_deprecated', kernel='rbf', max_iter=-1,\n",
      "                           probability=False, random_state=None, shrinking=True,\n",
      "                           tol=0.001, verbose=False),\n",
      "             iid='warn', n_jobs=None,\n",
      "             param_grid=[{'C': [1, 10, 50, 100], 'kernel': ['linear']},\n",
      "                         {'C': [10, 100, 500, 1000], 'gamma': [0.0001],\n",
      "                          'kernel': ['rbf']}],\n",
      "             pre_dispatch='2*n_jobs', refit=True, return_train_score=False,\n",
      "             scoring=None, verbose=0)\u001b[0m\n",
      "\u001b[34m\n",
      "CV-scores\u001b[0m\n",
      "Accuracy: 0.921 (+/-0.026) for params: {'C': 100, 'gamma': 0.0001, 'kernel': 'rbf'}\n",
      "Accuracy: 0.914 (+/-0.020) for params: {'C': 500, 'gamma': 0.0001, 'kernel': 'rbf'}\n",
      "Accuracy: 0.912 (+/-0.028) for params: {'C': 1000, 'gamma': 0.0001, 'kernel': 'rbf'}\n",
      "Accuracy: 0.912 (+/-0.022) for params: {'C': 10, 'gamma': 0.0001, 'kernel': 'rbf'}\n",
      "Accuracy: 0.904 (+/-0.018) for params: {'C': 1, 'kernel': 'linear'}\n",
      "Accuracy: 0.904 (+/-0.018) for params: {'C': 10, 'kernel': 'linear'}\n",
      "Accuracy: 0.904 (+/-0.018) for params: {'C': 50, 'kernel': 'linear'}\n",
      "Accuracy: 0.904 (+/-0.018) for params: {'C': 100, 'kernel': 'linear'}\n",
      "\n",
      "\u001b[34m\n",
      "Best Estimator Params\u001b[0m\n",
      "\u001b[33mSVC(C=100, cache_size=200, class_weight=None, coef0=0.0,\n",
      "    decision_function_shape='ovr', degree=3, gamma=0.0001, kernel='rbf',\n",
      "    max_iter=-1, probability=False, random_state=None, shrinking=True,\n",
      "    tol=0.001, verbose=False)\u001b[0m\n",
      "\u001b[34m\n",
      "Predictions:\u001b[0m\n",
      "['REAL' 'REAL' 'FAKE' ... 'REAL' 'REAL' 'FAKE']\n"
     ]
    },
    {
     "data": {
      "image/png": "[encoded data removed]",
      "text/plain": [
       "<Figure size 396x288 with 2 Axes>"
      ]
     },
     "metadata": {
      "needs_background": "light"
     },
     "output_type": "display_data"
    },
    {
     "name": "stdout",
     "output_type": "stream",
     "text": [
      "\u001b[34m\n",
      "Accuracy:\u001b[0m\n",
      "\u001b[32m0.9159090909090909\u001b[0m\n"
     ]
    }
   ],
   "source": [
    "SVC_pos_tag = runModel(encoder,\n",
    "               train_cv_vector,\n",
    "               train_cv_label,\n",
    "               train_holdout_vector,\n",
    "               train_holdout.label,\n",
    "               \"svc\",\n",
    "               \"SVC on pos-tagged text\")\n",
    "models.loc[len(models)] = SVC_pos_tag"
   ]
  },
  {
   "cell_type": "markdown",
   "metadata": {},
   "source": [
    "b. NB_pos_tag with FE1"
   ]
  },
  {
   "cell_type": "code",
   "execution_count": 36,
   "metadata": {},
   "outputs": [
    {
     "name": "stdout",
     "output_type": "stream",
     "text": [
      "\u001b[31mNaiive Bayes on pos-tagged text\u001b[0m\n",
      "\u001b[33mGridSearchCV(cv=ShuffleSplit(n_splits=5, random_state=12345, test_size=0.2, train_size=None),\n",
      "             error_score='raise-deprecating',\n",
      "             estimator=MultinomialNB(alpha=1.0, class_prior=None,\n",
      "                                     fit_prior=True),\n",
      "             iid='warn', n_jobs=None, param_grid={}, pre_dispatch='2*n_jobs',\n",
      "             refit=True, return_train_score=False, scoring=None, verbose=0)\u001b[0m\n",
      "\u001b[34m\n",
      "CV-scores\u001b[0m\n",
      "Accuracy: 0.889 (+/-0.017) for params: {}\n",
      "\n",
      "\u001b[34m\n",
      "Best Estimator Params\u001b[0m\n",
      "\u001b[33mMultinomialNB(alpha=1.0, class_prior=None, fit_prior=True)\u001b[0m\n",
      "\u001b[34m\n",
      "Predictions:\u001b[0m\n",
      "['REAL' 'REAL' 'REAL' ... 'REAL' 'REAL' 'REAL']\n"
     ]
    },
    {
     "data": {
      "image/png": "[encoded data removed]",
      "text/plain": [
       "<Figure size 396x288 with 2 Axes>"
      ]
     },
     "metadata": {
      "needs_background": "light"
     },
     "output_type": "display_data"
    },
    {
     "name": "stdout",
     "output_type": "stream",
     "text": [
      "\u001b[34m\n",
      "Accuracy:\u001b[0m\n",
      "\u001b[32m0.8977272727272727\u001b[0m\n"
     ]
    }
   ],
   "source": [
    "NB_pos_tag = runModel(encoder,\n",
    "              train_cv_vector,\n",
    "              train_cv_label,\n",
    "              train_holdout_vector,\n",
    "              train_holdout.label,\n",
    "              \"nb\",\n",
    "              \"Naiive Bayes on pos-tagged text\")\n",
    "models.loc[len(models)] = NB_pos_tag"
   ]
  },
  {
   "cell_type": "markdown",
   "metadata": {},
   "source": [
    "c. maxEnt with FE1"
   ]
  },
  {
   "cell_type": "code",
   "execution_count": 37,
   "metadata": {},
   "outputs": [
    {
     "name": "stdout",
     "output_type": "stream",
     "text": [
      "\u001b[31mMaxEnt Classifier on pos-tagged text\u001b[0m\n",
      "\u001b[33mGridSearchCV(cv=ShuffleSplit(n_splits=5, random_state=12345, test_size=0.2, train_size=None),\n",
      "             error_score='raise-deprecating',\n",
      "             estimator=LogisticRegression(C=1.0, class_weight=None, dual=False,\n",
      "                                          fit_intercept=True,\n",
      "                                          intercept_scaling=1, l1_ratio=None,\n",
      "                                          max_iter=100, multi_class='warn',\n",
      "                                          n_jobs=None, penalty='l2',\n",
      "                                          random_state=None, solver='warn',\n",
      "                                          tol=0.0001, verbose=0,\n",
      "                                          warm_start=False),\n",
      "             iid='warn', n_jobs=None,\n",
      "             param_grid={'C': [0.001, 0.01, 0.1, 1, 10, 100, 1000],\n",
      "                         'penalty': ['l1', 'l2']},\n",
      "             pre_dispatch='2*n_jobs', refit=True, return_train_score=False,\n",
      "             scoring=None, verbose=0)\u001b[0m\n",
      "\u001b[34m\n",
      "CV-scores\u001b[0m\n",
      "Accuracy: 0.930 (+/-0.026) for params: {'C': 0.1, 'penalty': 'l2'}\n",
      "Accuracy: 0.929 (+/-0.030) for params: {'C': 1, 'penalty': 'l2'}\n",
      "Accuracy: 0.927 (+/-0.018) for params: {'C': 0.01, 'penalty': 'l2'}\n",
      "Accuracy: 0.924 (+/-0.028) for params: {'C': 1, 'penalty': 'l1'}\n",
      "Accuracy: 0.922 (+/-0.024) for params: {'C': 10, 'penalty': 'l2'}\n",
      "Accuracy: 0.921 (+/-0.025) for params: {'C': 100, 'penalty': 'l2'}\n",
      "Accuracy: 0.920 (+/-0.022) for params: {'C': 10, 'penalty': 'l1'}\n",
      "Accuracy: 0.919 (+/-0.020) for params: {'C': 1000, 'penalty': 'l2'}\n",
      "Accuracy: 0.915 (+/-0.013) for params: {'C': 100, 'penalty': 'l1'}\n",
      "Accuracy: 0.911 (+/-0.020) for params: {'C': 0.1, 'penalty': 'l1'}\n",
      "Accuracy: 0.908 (+/-0.011) for params: {'C': 0.001, 'penalty': 'l2'}\n",
      "Accuracy: 0.896 (+/-0.017) for params: {'C': 1000, 'penalty': 'l1'}\n",
      "Accuracy: 0.848 (+/-0.026) for params: {'C': 0.01, 'penalty': 'l1'}\n",
      "Accuracy: 0.662 (+/-0.021) for params: {'C': 0.001, 'penalty': 'l1'}\n",
      "\n",
      "\u001b[34m\n",
      "Best Estimator Params\u001b[0m\n",
      "\u001b[33mLogisticRegression(C=0.1, class_weight=None, dual=False, fit_intercept=True,\n",
      "                   intercept_scaling=1, l1_ratio=None, max_iter=100,\n",
      "                   multi_class='warn', n_jobs=None, penalty='l2',\n",
      "                   random_state=None, solver='warn', tol=0.0001, verbose=0,\n",
      "                   warm_start=False)\u001b[0m\n",
      "\u001b[34m\n",
      "Predictions:\u001b[0m\n",
      "['REAL' 'REAL' 'FAKE' ... 'REAL' 'FAKE' 'REAL']\n"
     ]
    },
    {
     "data": {
      "image/png": "[encoded data removed]",
      "text/plain": [
       "<Figure size 396x288 with 2 Axes>"
      ]
     },
     "metadata": {
      "needs_background": "light"
     },
     "output_type": "display_data"
    },
    {
     "name": "stdout",
     "output_type": "stream",
     "text": [
      "\u001b[34m\n",
      "Accuracy:\u001b[0m\n",
      "\u001b[32m0.9295454545454546\u001b[0m\n"
     ]
    }
   ],
   "source": [
    "maxEnt_pos_tag = runModel(encoder,\n",
    "              train_cv_vector,\n",
    "              train_cv_label,\n",
    "              train_holdout_vector,\n",
    "              train_holdout.label,\n",
    "              \"maxEnt\",\n",
    "              \"MaxEnt Classifier on pos-tagged text\")\n",
    "models.loc[len(models)] = maxEnt_pos_tag"
   ]
  },
  {
   "cell_type": "code",
   "execution_count": 38,
   "metadata": {},
   "outputs": [
    {
     "data": {
      "text/html": [
       "<div>\n",
       "<style scoped>\n",
       "    .dataframe tbody tr th:only-of-type {\n",
       "        vertical-align: middle;\n",
       "    }\n",
       "\n",
       "    .dataframe tbody tr th {\n",
       "        vertical-align: top;\n",
       "    }\n",
       "\n",
       "    .dataframe thead th {\n",
       "        text-align: right;\n",
       "    }\n",
       "</style>\n",
       "<table border=\"1\" class=\"dataframe\">\n",
       "  <thead>\n",
       "    <tr style=\"text-align: right;\">\n",
       "      <th></th>\n",
       "      <th>model_name</th>\n",
       "      <th>model_object</th>\n",
       "      <th>score</th>\n",
       "    </tr>\n",
       "  </thead>\n",
       "  <tbody>\n",
       "    <tr>\n",
       "      <td>0</td>\n",
       "      <td>&lt;class 'sklearn.svm.classes.SVC'&gt;</td>\n",
       "      <td>&lt;class 'sklearn.svm.classes.SVC'&gt;</td>\n",
       "      <td>&lt;class 'sklearn.svm.classes.SVC'&gt;</td>\n",
       "    </tr>\n",
       "    <tr>\n",
       "      <td>1</td>\n",
       "      <td>Baseline Model 2: Naiive Bayes</td>\n",
       "      <td>GridSearchCV(cv=ShuffleSplit(n_splits=5, rando...</td>\n",
       "      <td>0.894697</td>\n",
       "    </tr>\n",
       "    <tr>\n",
       "      <td>2</td>\n",
       "      <td>Baseline Model 3: MaxEnt Classifier</td>\n",
       "      <td>GridSearchCV(cv=ShuffleSplit(n_splits=5, rando...</td>\n",
       "      <td>0.923485</td>\n",
       "    </tr>\n",
       "    <tr>\n",
       "      <td>3</td>\n",
       "      <td>SVC on pos-tagged text</td>\n",
       "      <td>GridSearchCV(cv=ShuffleSplit(n_splits=5, rando...</td>\n",
       "      <td>0.915909</td>\n",
       "    </tr>\n",
       "    <tr>\n",
       "      <td>4</td>\n",
       "      <td>Naiive Bayes on pos-tagged text</td>\n",
       "      <td>GridSearchCV(cv=ShuffleSplit(n_splits=5, rando...</td>\n",
       "      <td>0.897727</td>\n",
       "    </tr>\n",
       "    <tr>\n",
       "      <td>5</td>\n",
       "      <td>MaxEnt Classifier on pos-tagged text</td>\n",
       "      <td>GridSearchCV(cv=ShuffleSplit(n_splits=5, rando...</td>\n",
       "      <td>0.929545</td>\n",
       "    </tr>\n",
       "  </tbody>\n",
       "</table>\n",
       "</div>"
      ],
      "text/plain": [
       "                             model_name  \\\n",
       "0     <class 'sklearn.svm.classes.SVC'>   \n",
       "1        Baseline Model 2: Naiive Bayes   \n",
       "2   Baseline Model 3: MaxEnt Classifier   \n",
       "3                SVC on pos-tagged text   \n",
       "4       Naiive Bayes on pos-tagged text   \n",
       "5  MaxEnt Classifier on pos-tagged text   \n",
       "\n",
       "                                        model_object  \\\n",
       "0                  <class 'sklearn.svm.classes.SVC'>   \n",
       "1  GridSearchCV(cv=ShuffleSplit(n_splits=5, rando...   \n",
       "2  GridSearchCV(cv=ShuffleSplit(n_splits=5, rando...   \n",
       "3  GridSearchCV(cv=ShuffleSplit(n_splits=5, rando...   \n",
       "4  GridSearchCV(cv=ShuffleSplit(n_splits=5, rando...   \n",
       "5  GridSearchCV(cv=ShuffleSplit(n_splits=5, rando...   \n",
       "\n",
       "                               score  \n",
       "0  <class 'sklearn.svm.classes.SVC'>  \n",
       "1                           0.894697  \n",
       "2                           0.923485  \n",
       "3                           0.915909  \n",
       "4                           0.897727  \n",
       "5                           0.929545  "
      ]
     },
     "execution_count": 38,
     "metadata": {},
     "output_type": "execute_result"
    }
   ],
   "source": [
    "models"
   ]
  },
  {
   "cell_type": "markdown",
   "metadata": {},
   "source": [
    "<h3 style=\"color:blue\">\n",
    "There seems to be a slight increase in Accuracy after pos-tagging.\n",
    "</h3>"
   ]
  },
  {
   "cell_type": "markdown",
   "metadata": {},
   "source": [
    "## 2. TF-IDF weighting\n",
    "\n",
    "Try to add weight to each word using TF-IDF\n",
    "<img src=\"https://cdn-images-1.medium.com/max/800/1*_OsV8gO2cjy9qcFhrtCdiw.jpeg\" width=\"350px\"/>\n",
    "\n",
    "We are going to calculate the TFIDF score of each term in a piece of text. The text will be tokenized into sentences and each sentence is then considered a text item.\n",
    "\n",
    "We will also apply those on the cleaned text and the concatinated POS_tagged text."
   ]
  },
  {
   "cell_type": "code",
   "execution_count": 39,
   "metadata": {},
   "outputs": [],
   "source": [
    "df[\"clean_and_pos_tagged_text\"] = df['preprocessed_text'] + ' ' + df['pos_tagged_text']"
   ]
  },
  {
   "cell_type": "code",
   "execution_count": 40,
   "metadata": {},
   "outputs": [
    {
     "data": {
      "text/html": [
       "<div>\n",
       "<style scoped>\n",
       "    .dataframe tbody tr th:only-of-type {\n",
       "        vertical-align: middle;\n",
       "    }\n",
       "\n",
       "    .dataframe tbody tr th {\n",
       "        vertical-align: top;\n",
       "    }\n",
       "\n",
       "    .dataframe thead th {\n",
       "        text-align: right;\n",
       "    }\n",
       "</style>\n",
       "<table border=\"1\" class=\"dataframe\">\n",
       "  <thead>\n",
       "    <tr style=\"text-align: right;\">\n",
       "      <th></th>\n",
       "      <th>ID</th>\n",
       "      <th>title</th>\n",
       "      <th>text</th>\n",
       "      <th>label</th>\n",
       "      <th>title_and_text</th>\n",
       "      <th>preprocessed_text</th>\n",
       "      <th>pos_tagged_text</th>\n",
       "      <th>clean_and_pos_tagged_text</th>\n",
       "    </tr>\n",
       "  </thead>\n",
       "  <tbody>\n",
       "    <tr>\n",
       "      <td>0</td>\n",
       "      <td>8476</td>\n",
       "      <td>You Can Smell Hillary’s Fear</td>\n",
       "      <td>Daniel Greenfield | a Shillman Journalism Fell...</td>\n",
       "      <td>FAKE</td>\n",
       "      <td>You Can Smell Hillary’s Fear Daniel Greenfield...</td>\n",
       "      <td>smell hillary’s fear daniel greenfield shillma...</td>\n",
       "      <td>NN-smell JJ-hillary NNP-’ NN-s NN-fear JJ-dani...</td>\n",
       "      <td>smell hillary’s fear daniel greenfield shillma...</td>\n",
       "    </tr>\n",
       "  </tbody>\n",
       "</table>\n",
       "</div>"
      ],
      "text/plain": [
       "     ID                         title  \\\n",
       "0  8476  You Can Smell Hillary’s Fear   \n",
       "\n",
       "                                                text label  \\\n",
       "0  Daniel Greenfield | a Shillman Journalism Fell...  FAKE   \n",
       "\n",
       "                                      title_and_text  \\\n",
       "0  You Can Smell Hillary’s Fear Daniel Greenfield...   \n",
       "\n",
       "                                   preprocessed_text  \\\n",
       "0  smell hillary’s fear daniel greenfield shillma...   \n",
       "\n",
       "                                     pos_tagged_text  \\\n",
       "0  NN-smell JJ-hillary NNP-’ NN-s NN-fear JJ-dani...   \n",
       "\n",
       "                           clean_and_pos_tagged_text  \n",
       "0  smell hillary’s fear daniel greenfield shillma...  "
      ]
     },
     "execution_count": 40,
     "metadata": {},
     "output_type": "execute_result"
    }
   ],
   "source": [
    "df.head(1)"
   ]
  },
  {
   "cell_type": "code",
   "execution_count": 41,
   "metadata": {},
   "outputs": [],
   "source": [
    "encoder, train, test, train_cv, train_holdout, train_cv_label, train_holdout_label = split_train_holdout_test(encoder, df, False)\n",
    "\n",
    "count_vect = CountVectorizer(analyzer = \"word\")\n",
    "\n",
    "count_vectorizer = count_vect.fit(df.clean_and_pos_tagged_text)\n",
    "\n",
    "train_cv_vector = count_vectorizer.transform(train_cv.clean_and_pos_tagged_text)\n",
    "train_holdout_vector = count_vectorizer.transform(train_holdout.clean_and_pos_tagged_text)\n",
    "test_vector = count_vectorizer.transform(test.clean_and_pos_tagged_text)\n",
    "\n",
    "\n",
    "tf_idf = TfidfTransformer(norm=\"l2\")\n",
    "train_cv_tf_idf = tf_idf.fit_transform(train_cv_vector)\n",
    "train_holdout_tf_idf = tf_idf.fit_transform(train_holdout_vector)\n",
    "test_tf_idf = tf_idf.fit_transform(test_vector)  "
   ]
  },
  {
   "cell_type": "markdown",
   "metadata": {},
   "source": [
    "### Rerun Models on preprocessed + pos-tagged (FE1) + TF-IDF weighted text (FE2)"
   ]
  },
  {
   "cell_type": "markdown",
   "metadata": {},
   "source": [
    "a. SVC with FE1 and FE2"
   ]
  },
  {
   "cell_type": "code",
   "execution_count": 42,
   "metadata": {},
   "outputs": [
    {
     "name": "stdout",
     "output_type": "stream",
     "text": [
      "\u001b[31mSVC on preprocessed+pos-tagged TF-IDF weighted text\u001b[0m\n",
      "\u001b[33mGridSearchCV(cv=ShuffleSplit(n_splits=5, random_state=12345, test_size=0.2, train_size=None),\n",
      "             error_score='raise-deprecating',\n",
      "             estimator=SVC(C=1.0, cache_size=200, class_weight=None, coef0=0.0,\n",
      "                           decision_function_shape='ovr', degree=3,\n",
      "                           gamma='auto_deprecated', kernel='rbf', max_iter=-1,\n",
      "                           probability=False, random_state=None, shrinking=True,\n",
      "                           tol=0.001, verbose=False),\n",
      "             iid='warn', n_jobs=None,\n",
      "             param_grid=[{'C': [1, 10, 50, 100], 'kernel': ['linear']},\n",
      "                         {'C': [10, 100, 500, 1000], 'gamma': [0.0001],\n",
      "                          'kernel': ['rbf']}],\n",
      "             pre_dispatch='2*n_jobs', refit=True, return_train_score=False,\n",
      "             scoring=None, verbose=0)\u001b[0m\n",
      "\u001b[34m\n",
      "CV-scores\u001b[0m\n",
      "Accuracy: 0.937 (+/-0.026) for params: {'C': 50, 'kernel': 'linear'}\n",
      "Accuracy: 0.937 (+/-0.026) for params: {'C': 100, 'kernel': 'linear'}\n",
      "Accuracy: 0.937 (+/-0.024) for params: {'C': 10, 'kernel': 'linear'}\n",
      "Accuracy: 0.935 (+/-0.020) for params: {'C': 1, 'kernel': 'linear'}\n",
      "Accuracy: 0.895 (+/-0.008) for params: {'C': 1000, 'gamma': 0.0001, 'kernel': 'rbf'}\n",
      "Accuracy: 0.859 (+/-0.016) for params: {'C': 500, 'gamma': 0.0001, 'kernel': 'rbf'}\n",
      "Accuracy: 0.590 (+/-0.139) for params: {'C': 100, 'gamma': 0.0001, 'kernel': 'rbf'}\n",
      "Accuracy: 0.481 (+/-0.027) for params: {'C': 10, 'gamma': 0.0001, 'kernel': 'rbf'}\n",
      "\n",
      "\u001b[34m\n",
      "Best Estimator Params\u001b[0m\n",
      "\u001b[33mSVC(C=50, cache_size=200, class_weight=None, coef0=0.0,\n",
      "    decision_function_shape='ovr', degree=3, gamma='auto_deprecated',\n",
      "    kernel='linear', max_iter=-1, probability=False, random_state=None,\n",
      "    shrinking=True, tol=0.001, verbose=False)\u001b[0m\n",
      "\u001b[34m\n",
      "Predictions:\u001b[0m\n",
      "['REAL' 'REAL' 'FAKE' ... 'REAL' 'FAKE' 'REAL']\n"
     ]
    },
    {
     "data": {
      "image/png": "[encoded data removed]",
      "text/plain": [
       "<Figure size 396x288 with 2 Axes>"
      ]
     },
     "metadata": {
      "needs_background": "light"
     },
     "output_type": "display_data"
    },
    {
     "name": "stdout",
     "output_type": "stream",
     "text": [
      "\u001b[34m\n",
      "Accuracy:\u001b[0m\n",
      "\u001b[32m0.9454545454545454\u001b[0m\n"
     ]
    }
   ],
   "source": [
    "SVC_tf_idf = runModel(encoder,\n",
    "               train_cv_tf_idf,\n",
    "               train_cv_label,\n",
    "               train_holdout_tf_idf,\n",
    "               train_holdout.label,\n",
    "               \"svc\",\n",
    "               \"SVC on preprocessed+pos-tagged TF-IDF weighted text\")\n",
    "models.loc[len(models)] = SVC_tf_idf"
   ]
  },
  {
   "cell_type": "markdown",
   "metadata": {},
   "source": [
    "b. NB with FE1 and FE2"
   ]
  },
  {
   "cell_type": "code",
   "execution_count": 43,
   "metadata": {},
   "outputs": [
    {
     "name": "stdout",
     "output_type": "stream",
     "text": [
      "\u001b[31mNaiive Bayes on preprocessed+pos-tagged TF-IDF weighted text\u001b[0m\n",
      "\u001b[33mGridSearchCV(cv=ShuffleSplit(n_splits=5, random_state=12345, test_size=0.2, train_size=None),\n",
      "             error_score='raise-deprecating',\n",
      "             estimator=MultinomialNB(alpha=1.0, class_prior=None,\n",
      "                                     fit_prior=True),\n",
      "             iid='warn', n_jobs=None, param_grid={}, pre_dispatch='2*n_jobs',\n",
      "             refit=True, return_train_score=False, scoring=None, verbose=0)\u001b[0m\n",
      "\u001b[34m\n",
      "CV-scores\u001b[0m\n",
      "Accuracy: 0.781 (+/-0.039) for params: {}\n",
      "\n",
      "\u001b[34m\n",
      "Best Estimator Params\u001b[0m\n",
      "\u001b[33mMultinomialNB(alpha=1.0, class_prior=None, fit_prior=True)\u001b[0m\n",
      "\u001b[34m\n",
      "Predictions:\u001b[0m\n",
      "['REAL' 'REAL' 'REAL' ... 'REAL' 'REAL' 'REAL']\n"
     ]
    },
    {
     "data": {
      "image/png": "[encoded data removed]",
      "text/plain": [
       "<Figure size 396x288 with 2 Axes>"
      ]
     },
     "metadata": {
      "needs_background": "light"
     },
     "output_type": "display_data"
    },
    {
     "name": "stdout",
     "output_type": "stream",
     "text": [
      "\u001b[34m\n",
      "Accuracy:\u001b[0m\n",
      "\u001b[32m0.8166666666666667\u001b[0m\n"
     ]
    }
   ],
   "source": [
    "NB_tf_idf = runModel(encoder,\n",
    "               train_cv_tf_idf,\n",
    "               train_cv_label,\n",
    "               train_holdout_tf_idf,\n",
    "               train_holdout.label,\n",
    "              \"nb\",\n",
    "              \"Naiive Bayes on preprocessed+pos-tagged TF-IDF weighted text\")\n",
    "models.loc[len(models)] = NB_tf_idf"
   ]
  },
  {
   "cell_type": "markdown",
   "metadata": {},
   "source": [
    "c. maxEnt with FE1 and FE2"
   ]
  },
  {
   "cell_type": "code",
   "execution_count": 44,
   "metadata": {},
   "outputs": [
    {
     "name": "stdout",
     "output_type": "stream",
     "text": [
      "\u001b[31mMaxEnt on preprocessed+pos-tagged TF-IDF weighted text\u001b[0m\n",
      "\u001b[33mGridSearchCV(cv=ShuffleSplit(n_splits=5, random_state=12345, test_size=0.2, train_size=None),\n",
      "             error_score='raise-deprecating',\n",
      "             estimator=LogisticRegression(C=1.0, class_weight=None, dual=False,\n",
      "                                          fit_intercept=True,\n",
      "                                          intercept_scaling=1, l1_ratio=None,\n",
      "                                          max_iter=100, multi_class='warn',\n",
      "                                          n_jobs=None, penalty='l2',\n",
      "                                          random_state=None, solver='warn',\n",
      "                                          tol=0.0001, verbose=0,\n",
      "                                          warm_start=False),\n",
      "             iid='warn', n_jobs=None,\n",
      "             param_grid={'C': [0.001, 0.01, 0.1, 1, 10, 100, 1000],\n",
      "                         'penalty': ['l1', 'l2']},\n",
      "             pre_dispatch='2*n_jobs', refit=True, return_train_score=False,\n",
      "             scoring=None, verbose=0)\u001b[0m\n",
      "\u001b[34m\n",
      "CV-scores\u001b[0m\n",
      "Accuracy: 0.943 (+/-0.029) for params: {'C': 1000, 'penalty': 'l2'}\n",
      "Accuracy: 0.939 (+/-0.022) for params: {'C': 1000, 'penalty': 'l1'}\n",
      "Accuracy: 0.939 (+/-0.018) for params: {'C': 10, 'penalty': 'l1'}\n",
      "Accuracy: 0.939 (+/-0.026) for params: {'C': 100, 'penalty': 'l2'}\n",
      "Accuracy: 0.938 (+/-0.022) for params: {'C': 100, 'penalty': 'l1'}\n",
      "Accuracy: 0.932 (+/-0.021) for params: {'C': 10, 'penalty': 'l2'}\n",
      "Accuracy: 0.909 (+/-0.007) for params: {'C': 1, 'penalty': 'l2'}\n",
      "Accuracy: 0.889 (+/-0.017) for params: {'C': 1, 'penalty': 'l1'}\n",
      "Accuracy: 0.842 (+/-0.026) for params: {'C': 0.1, 'penalty': 'l2'}\n",
      "Accuracy: 0.724 (+/-0.101) for params: {'C': 0.01, 'penalty': 'l2'}\n",
      "Accuracy: 0.662 (+/-0.041) for params: {'C': 0.1, 'penalty': 'l1'}\n",
      "Accuracy: 0.550 (+/-0.244) for params: {'C': 0.001, 'penalty': 'l2'}\n",
      "Accuracy: 0.514 (+/-0.036) for params: {'C': 0.001, 'penalty': 'l1'}\n",
      "Accuracy: 0.514 (+/-0.036) for params: {'C': 0.01, 'penalty': 'l1'}\n",
      "\n",
      "\u001b[34m\n",
      "Best Estimator Params\u001b[0m\n",
      "\u001b[33mLogisticRegression(C=1000, class_weight=None, dual=False, fit_intercept=True,\n",
      "                   intercept_scaling=1, l1_ratio=None, max_iter=100,\n",
      "                   multi_class='warn', n_jobs=None, penalty='l2',\n",
      "                   random_state=None, solver='warn', tol=0.0001, verbose=0,\n",
      "                   warm_start=False)\u001b[0m\n",
      "\u001b[34m\n",
      "Predictions:\u001b[0m\n",
      "['REAL' 'REAL' 'FAKE' ... 'REAL' 'FAKE' 'REAL']\n"
     ]
    },
    {
     "data": {
      "image/png": "[encoded data removed]",
      "text/plain": [
       "<Figure size 396x288 with 2 Axes>"
      ]
     },
     "metadata": {
      "needs_background": "light"
     },
     "output_type": "display_data"
    },
    {
     "name": "stdout",
     "output_type": "stream",
     "text": [
      "\u001b[34m\n",
      "Accuracy:\u001b[0m\n",
      "\u001b[32m0.9431818181818182\u001b[0m\n"
     ]
    }
   ],
   "source": [
    "maxEnt_tf_idf = runModel(encoder,\n",
    "               train_cv_tf_idf,\n",
    "               train_cv_label,\n",
    "               train_holdout_tf_idf,\n",
    "               train_holdout.label,\n",
    "              \"maxEnt\",\n",
    "              \"MaxEnt on preprocessed+pos-tagged TF-IDF weighted text\")\n",
    "models.loc[len(models)] = maxEnt_tf_idf"
   ]
  },
  {
   "cell_type": "code",
   "execution_count": 45,
   "metadata": {},
   "outputs": [
    {
     "data": {
      "text/html": [
       "<div>\n",
       "<style scoped>\n",
       "    .dataframe tbody tr th:only-of-type {\n",
       "        vertical-align: middle;\n",
       "    }\n",
       "\n",
       "    .dataframe tbody tr th {\n",
       "        vertical-align: top;\n",
       "    }\n",
       "\n",
       "    .dataframe thead th {\n",
       "        text-align: right;\n",
       "    }\n",
       "</style>\n",
       "<table border=\"1\" class=\"dataframe\">\n",
       "  <thead>\n",
       "    <tr style=\"text-align: right;\">\n",
       "      <th></th>\n",
       "      <th>model_name</th>\n",
       "      <th>model_object</th>\n",
       "      <th>score</th>\n",
       "    </tr>\n",
       "  </thead>\n",
       "  <tbody>\n",
       "    <tr>\n",
       "      <td>0</td>\n",
       "      <td>&lt;class 'sklearn.svm.classes.SVC'&gt;</td>\n",
       "      <td>&lt;class 'sklearn.svm.classes.SVC'&gt;</td>\n",
       "      <td>&lt;class 'sklearn.svm.classes.SVC'&gt;</td>\n",
       "    </tr>\n",
       "    <tr>\n",
       "      <td>1</td>\n",
       "      <td>Baseline Model 2: Naiive Bayes</td>\n",
       "      <td>GridSearchCV(cv=ShuffleSplit(n_splits=5, rando...</td>\n",
       "      <td>0.894697</td>\n",
       "    </tr>\n",
       "    <tr>\n",
       "      <td>2</td>\n",
       "      <td>Baseline Model 3: MaxEnt Classifier</td>\n",
       "      <td>GridSearchCV(cv=ShuffleSplit(n_splits=5, rando...</td>\n",
       "      <td>0.923485</td>\n",
       "    </tr>\n",
       "    <tr>\n",
       "      <td>3</td>\n",
       "      <td>SVC on pos-tagged text</td>\n",
       "      <td>GridSearchCV(cv=ShuffleSplit(n_splits=5, rando...</td>\n",
       "      <td>0.915909</td>\n",
       "    </tr>\n",
       "    <tr>\n",
       "      <td>4</td>\n",
       "      <td>Naiive Bayes on pos-tagged text</td>\n",
       "      <td>GridSearchCV(cv=ShuffleSplit(n_splits=5, rando...</td>\n",
       "      <td>0.897727</td>\n",
       "    </tr>\n",
       "    <tr>\n",
       "      <td>5</td>\n",
       "      <td>MaxEnt Classifier on pos-tagged text</td>\n",
       "      <td>GridSearchCV(cv=ShuffleSplit(n_splits=5, rando...</td>\n",
       "      <td>0.929545</td>\n",
       "    </tr>\n",
       "    <tr>\n",
       "      <td>6</td>\n",
       "      <td>SVC on preprocessed+pos-tagged TF-IDF weighted...</td>\n",
       "      <td>GridSearchCV(cv=ShuffleSplit(n_splits=5, rando...</td>\n",
       "      <td>0.945455</td>\n",
       "    </tr>\n",
       "    <tr>\n",
       "      <td>7</td>\n",
       "      <td>Naiive Bayes on preprocessed+pos-tagged TF-IDF...</td>\n",
       "      <td>GridSearchCV(cv=ShuffleSplit(n_splits=5, rando...</td>\n",
       "      <td>0.816667</td>\n",
       "    </tr>\n",
       "    <tr>\n",
       "      <td>8</td>\n",
       "      <td>MaxEnt on preprocessed+pos-tagged TF-IDF weigh...</td>\n",
       "      <td>GridSearchCV(cv=ShuffleSplit(n_splits=5, rando...</td>\n",
       "      <td>0.943182</td>\n",
       "    </tr>\n",
       "  </tbody>\n",
       "</table>\n",
       "</div>"
      ],
      "text/plain": [
       "                                          model_name  \\\n",
       "0                  <class 'sklearn.svm.classes.SVC'>   \n",
       "1                     Baseline Model 2: Naiive Bayes   \n",
       "2                Baseline Model 3: MaxEnt Classifier   \n",
       "3                             SVC on pos-tagged text   \n",
       "4                    Naiive Bayes on pos-tagged text   \n",
       "5               MaxEnt Classifier on pos-tagged text   \n",
       "6  SVC on preprocessed+pos-tagged TF-IDF weighted...   \n",
       "7  Naiive Bayes on preprocessed+pos-tagged TF-IDF...   \n",
       "8  MaxEnt on preprocessed+pos-tagged TF-IDF weigh...   \n",
       "\n",
       "                                        model_object  \\\n",
       "0                  <class 'sklearn.svm.classes.SVC'>   \n",
       "1  GridSearchCV(cv=ShuffleSplit(n_splits=5, rando...   \n",
       "2  GridSearchCV(cv=ShuffleSplit(n_splits=5, rando...   \n",
       "3  GridSearchCV(cv=ShuffleSplit(n_splits=5, rando...   \n",
       "4  GridSearchCV(cv=ShuffleSplit(n_splits=5, rando...   \n",
       "5  GridSearchCV(cv=ShuffleSplit(n_splits=5, rando...   \n",
       "6  GridSearchCV(cv=ShuffleSplit(n_splits=5, rando...   \n",
       "7  GridSearchCV(cv=ShuffleSplit(n_splits=5, rando...   \n",
       "8  GridSearchCV(cv=ShuffleSplit(n_splits=5, rando...   \n",
       "\n",
       "                               score  \n",
       "0  <class 'sklearn.svm.classes.SVC'>  \n",
       "1                           0.894697  \n",
       "2                           0.923485  \n",
       "3                           0.915909  \n",
       "4                           0.897727  \n",
       "5                           0.929545  \n",
       "6                           0.945455  \n",
       "7                           0.816667  \n",
       "8                           0.943182  "
      ]
     },
     "execution_count": 45,
     "metadata": {},
     "output_type": "execute_result"
    }
   ],
   "source": [
    "models"
   ]
  },
  {
   "cell_type": "markdown",
   "metadata": {},
   "source": [
    "<h3 style=\"color:blue\">\n",
    "Using TF-IDF increased the score to ~94.5% with SVC and Max-Ent models.\n",
    "<br><br>\n",
    "Naive-Bayes rather decreased the score. Therefore we drop it from the pipeline.\n",
    "</h3>"
   ]
  },
  {
   "cell_type": "markdown",
   "metadata": {},
   "source": [
    "## 3. Use Bigram Vectorizer instead of regular vectorizer"
   ]
  },
  {
   "cell_type": "markdown",
   "metadata": {},
   "source": [
    "For FE3, we use the Trigram vectorizer, which vectorizes **triplets of words** rather than each word separately. *In this short example sentence*, the trigrams are \"In this short\", \"this short example\" and \"short example sentence\"."
   ]
  },
  {
   "cell_type": "code",
   "execution_count": 46,
   "metadata": {},
   "outputs": [],
   "source": [
    "encoder, train, test, train_cv, train_holdout, train_cv_label, train_holdout_label = split_train_holdout_test(encoder, df, False)\n",
    "\n",
    "trigram_vect = CountVectorizer(analyzer = \"word\", ngram_range=(1,2))\n",
    "\n",
    "trigram_vect = count_vect.fit(df.clean_and_pos_tagged_text)\n",
    "\n",
    "train_cv_vector = trigram_vect.transform(train_cv.clean_and_pos_tagged_text)\n",
    "train_holdout_vector = trigram_vect.transform(train_holdout.clean_and_pos_tagged_text)\n",
    "test_vector = trigram_vect.transform(test.clean_and_pos_tagged_text)"
   ]
  },
  {
   "cell_type": "code",
   "execution_count": 47,
   "metadata": {},
   "outputs": [],
   "source": [
    "tf_idf = TfidfTransformer(norm=\"l2\")\n",
    "train_cv_bigram_tf_idf = tf_idf.fit_transform(train_cv_vector)\n",
    "train_holdout_bigram_tf_idf = tf_idf.fit_transform(train_holdout_vector)\n",
    "test_bigram_tf_idf = tf_idf.fit_transform(test_vector)"
   ]
  },
  {
   "cell_type": "markdown",
   "metadata": {},
   "source": [
    "### Rerun Models on preprocessed + pos-tagged (FE1) + TF-IDF weighted (FE2) + Trigram vectorized text (FE3)"
   ]
  },
  {
   "cell_type": "markdown",
   "metadata": {},
   "source": [
    "a. SVC with FE1, FE2 and FE3"
   ]
  },
  {
   "cell_type": "code",
   "execution_count": 48,
   "metadata": {},
   "outputs": [
    {
     "name": "stdout",
     "output_type": "stream",
     "text": [
      "\u001b[31mSVC on bigram vect.+ TF-IDF\u001b[0m\n",
      "\u001b[33mGridSearchCV(cv=ShuffleSplit(n_splits=5, random_state=12345, test_size=0.2, train_size=None),\n",
      "             error_score='raise-deprecating',\n",
      "             estimator=SVC(C=1.0, cache_size=200, class_weight=None, coef0=0.0,\n",
      "                           decision_function_shape='ovr', degree=3,\n",
      "                           gamma='auto_deprecated', kernel='rbf', max_iter=-1,\n",
      "                           probability=False, random_state=None, shrinking=True,\n",
      "                           tol=0.001, verbose=False),\n",
      "             iid='warn', n_jobs=None,\n",
      "             param_grid=[{'C': [1, 10, 50, 100], 'kernel': ['linear']},\n",
      "                         {'C': [10, 100, 500, 1000], 'gamma': [0.0001],\n",
      "                          'kernel': ['rbf']}],\n",
      "             pre_dispatch='2*n_jobs', refit=True, return_train_score=False,\n",
      "             scoring=None, verbose=0)\u001b[0m\n",
      "\u001b[34m\n",
      "CV-scores\u001b[0m\n",
      "Accuracy: 0.937 (+/-0.026) for params: {'C': 50, 'kernel': 'linear'}\n",
      "Accuracy: 0.937 (+/-0.026) for params: {'C': 100, 'kernel': 'linear'}\n",
      "Accuracy: 0.937 (+/-0.024) for params: {'C': 10, 'kernel': 'linear'}\n",
      "Accuracy: 0.935 (+/-0.020) for params: {'C': 1, 'kernel': 'linear'}\n",
      "Accuracy: 0.895 (+/-0.008) for params: {'C': 1000, 'gamma': 0.0001, 'kernel': 'rbf'}\n",
      "Accuracy: 0.859 (+/-0.016) for params: {'C': 500, 'gamma': 0.0001, 'kernel': 'rbf'}\n",
      "Accuracy: 0.590 (+/-0.139) for params: {'C': 100, 'gamma': 0.0001, 'kernel': 'rbf'}\n",
      "Accuracy: 0.481 (+/-0.027) for params: {'C': 10, 'gamma': 0.0001, 'kernel': 'rbf'}\n",
      "\n",
      "\u001b[34m\n",
      "Best Estimator Params\u001b[0m\n",
      "\u001b[33mSVC(C=50, cache_size=200, class_weight=None, coef0=0.0,\n",
      "    decision_function_shape='ovr', degree=3, gamma='auto_deprecated',\n",
      "    kernel='linear', max_iter=-1, probability=False, random_state=None,\n",
      "    shrinking=True, tol=0.001, verbose=False)\u001b[0m\n",
      "\u001b[34m\n",
      "Predictions:\u001b[0m\n",
      "['REAL' 'REAL' 'FAKE' ... 'REAL' 'FAKE' 'REAL']\n"
     ]
    },
    {
     "data": {
      "image/png": "[encoded data removed]",
      "text/plain": [
       "<Figure size 396x288 with 2 Axes>"
      ]
     },
     "metadata": {
      "needs_background": "light"
     },
     "output_type": "display_data"
    },
    {
     "name": "stdout",
     "output_type": "stream",
     "text": [
      "\u001b[34m\n",
      "Accuracy:\u001b[0m\n",
      "\u001b[32m0.9454545454545454\u001b[0m\n"
     ]
    }
   ],
   "source": [
    "SVC_trigram_tf_idf = runModel(encoder,\n",
    "               train_cv_bigram_tf_idf,\n",
    "               train_cv_label,\n",
    "               train_holdout_bigram_tf_idf,\n",
    "               train_holdout.label,\n",
    "               \"svc\",\n",
    "               \"SVC on bigram vect.+ TF-IDF\")\n",
    "models.loc[len(models)] = SVC_trigram_tf_idf"
   ]
  },
  {
   "cell_type": "markdown",
   "metadata": {},
   "source": [
    "b. maxEnt with FE1, FE2 and FE3"
   ]
  },
  {
   "cell_type": "code",
   "execution_count": 49,
   "metadata": {},
   "outputs": [],
   "source": [
    "encoder, train, test, train_cv, train_holdout, train_cv_label, train_holdout_label = split_train_holdout_test(encoder, df, False)\n",
    "\n",
    "trigram_vect = CountVectorizer(analyzer = \"word\", ngram_range=(1,3))\n",
    "\n",
    "trigram_vect = count_vect.fit(df.clean_and_pos_tagged_text)\n",
    "\n",
    "train_cv_vector = trigram_vect.transform(train_cv.clean_and_pos_tagged_text)\n",
    "train_holdout_vector = trigram_vect.transform(train_holdout.clean_and_pos_tagged_text)"
   ]
  },
  {
   "cell_type": "code",
   "execution_count": 50,
   "metadata": {},
   "outputs": [],
   "source": [
    "tf_idf = TfidfTransformer(norm=\"l2\")\n",
    "train_cv_trigram_tf_idf = tf_idf.fit_transform(train_cv_vector)\n",
    "train_holdout_trigram_tf_idf = tf_idf.fit_transform(train_holdout_vector)"
   ]
  },
  {
   "cell_type": "code",
   "execution_count": 51,
   "metadata": {},
   "outputs": [
    {
     "name": "stdout",
     "output_type": "stream",
     "text": [
      "\u001b[31mMaxEnt on trigram vect.+ TF-IDF\u001b[0m\n",
      "\u001b[33mGridSearchCV(cv=ShuffleSplit(n_splits=5, random_state=12345, test_size=0.2, train_size=None),\n",
      "             error_score='raise-deprecating',\n",
      "             estimator=LogisticRegression(C=1.0, class_weight=None, dual=False,\n",
      "                                          fit_intercept=True,\n",
      "                                          intercept_scaling=1, l1_ratio=None,\n",
      "                                          max_iter=100, multi_class='warn',\n",
      "                                          n_jobs=None, penalty='l2',\n",
      "                                          random_state=None, solver='warn',\n",
      "                                          tol=0.0001, verbose=0,\n",
      "                                          warm_start=False),\n",
      "             iid='warn', n_jobs=None,\n",
      "             param_grid={'C': [0.001, 0.01, 0.1, 1, 10, 100, 1000],\n",
      "                         'penalty': ['l1', 'l2']},\n",
      "             pre_dispatch='2*n_jobs', refit=True, return_train_score=False,\n",
      "             scoring=None, verbose=0)\u001b[0m\n",
      "\u001b[34m\n",
      "CV-scores\u001b[0m\n",
      "Accuracy: 0.943 (+/-0.029) for params: {'C': 1000, 'penalty': 'l2'}\n",
      "Accuracy: 0.939 (+/-0.018) for params: {'C': 10, 'penalty': 'l1'}\n",
      "Accuracy: 0.939 (+/-0.026) for params: {'C': 100, 'penalty': 'l2'}\n",
      "Accuracy: 0.937 (+/-0.023) for params: {'C': 100, 'penalty': 'l1'}\n",
      "Accuracy: 0.937 (+/-0.030) for params: {'C': 1000, 'penalty': 'l1'}\n",
      "Accuracy: 0.932 (+/-0.021) for params: {'C': 10, 'penalty': 'l2'}\n",
      "Accuracy: 0.909 (+/-0.007) for params: {'C': 1, 'penalty': 'l2'}\n",
      "Accuracy: 0.889 (+/-0.017) for params: {'C': 1, 'penalty': 'l1'}\n",
      "Accuracy: 0.842 (+/-0.026) for params: {'C': 0.1, 'penalty': 'l2'}\n",
      "Accuracy: 0.724 (+/-0.101) for params: {'C': 0.01, 'penalty': 'l2'}\n",
      "Accuracy: 0.662 (+/-0.041) for params: {'C': 0.1, 'penalty': 'l1'}\n",
      "Accuracy: 0.550 (+/-0.244) for params: {'C': 0.001, 'penalty': 'l2'}\n",
      "Accuracy: 0.514 (+/-0.036) for params: {'C': 0.001, 'penalty': 'l1'}\n",
      "Accuracy: 0.514 (+/-0.036) for params: {'C': 0.01, 'penalty': 'l1'}\n",
      "\n",
      "\u001b[34m\n",
      "Best Estimator Params\u001b[0m\n",
      "\u001b[33mLogisticRegression(C=1000, class_weight=None, dual=False, fit_intercept=True,\n",
      "                   intercept_scaling=1, l1_ratio=None, max_iter=100,\n",
      "                   multi_class='warn', n_jobs=None, penalty='l2',\n",
      "                   random_state=None, solver='warn', tol=0.0001, verbose=0,\n",
      "                   warm_start=False)\u001b[0m\n",
      "\u001b[34m\n",
      "Predictions:\u001b[0m\n",
      "['REAL' 'REAL' 'FAKE' ... 'REAL' 'FAKE' 'REAL']\n"
     ]
    },
    {
     "data": {
      "image/png": "[encoded data removed]",
      "text/plain": [
       "<Figure size 396x288 with 2 Axes>"
      ]
     },
     "metadata": {
      "needs_background": "light"
     },
     "output_type": "display_data"
    },
    {
     "name": "stdout",
     "output_type": "stream",
     "text": [
      "\u001b[34m\n",
      "Accuracy:\u001b[0m\n",
      "\u001b[32m0.9431818181818182\u001b[0m\n"
     ]
    }
   ],
   "source": [
    "maxEnt_tf_idf = runModel(encoder,\n",
    "               train_cv_trigram_tf_idf,\n",
    "               train_cv_label,\n",
    "               train_holdout_trigram_tf_idf,\n",
    "               train_holdout.label,\n",
    "              \"maxEnt\",\n",
    "              \"MaxEnt on trigram vect.+ TF-IDF\")\n",
    "models.loc[len(models)] = maxEnt_tf_idf"
   ]
  },
  {
   "cell_type": "code",
   "execution_count": 52,
   "metadata": {},
   "outputs": [
    {
     "data": {
      "text/html": [
       "<div>\n",
       "<style scoped>\n",
       "    .dataframe tbody tr th:only-of-type {\n",
       "        vertical-align: middle;\n",
       "    }\n",
       "\n",
       "    .dataframe tbody tr th {\n",
       "        vertical-align: top;\n",
       "    }\n",
       "\n",
       "    .dataframe thead th {\n",
       "        text-align: right;\n",
       "    }\n",
       "</style>\n",
       "<table border=\"1\" class=\"dataframe\">\n",
       "  <thead>\n",
       "    <tr style=\"text-align: right;\">\n",
       "      <th></th>\n",
       "      <th>model_name</th>\n",
       "      <th>model_object</th>\n",
       "      <th>score</th>\n",
       "    </tr>\n",
       "  </thead>\n",
       "  <tbody>\n",
       "    <tr>\n",
       "      <td>0</td>\n",
       "      <td>&lt;class 'sklearn.svm.classes.SVC'&gt;</td>\n",
       "      <td>&lt;class 'sklearn.svm.classes.SVC'&gt;</td>\n",
       "      <td>&lt;class 'sklearn.svm.classes.SVC'&gt;</td>\n",
       "    </tr>\n",
       "    <tr>\n",
       "      <td>1</td>\n",
       "      <td>Baseline Model 2: Naiive Bayes</td>\n",
       "      <td>GridSearchCV(cv=ShuffleSplit(n_splits=5, rando...</td>\n",
       "      <td>0.894697</td>\n",
       "    </tr>\n",
       "    <tr>\n",
       "      <td>2</td>\n",
       "      <td>Baseline Model 3: MaxEnt Classifier</td>\n",
       "      <td>GridSearchCV(cv=ShuffleSplit(n_splits=5, rando...</td>\n",
       "      <td>0.923485</td>\n",
       "    </tr>\n",
       "    <tr>\n",
       "      <td>3</td>\n",
       "      <td>SVC on pos-tagged text</td>\n",
       "      <td>GridSearchCV(cv=ShuffleSplit(n_splits=5, rando...</td>\n",
       "      <td>0.915909</td>\n",
       "    </tr>\n",
       "    <tr>\n",
       "      <td>4</td>\n",
       "      <td>Naiive Bayes on pos-tagged text</td>\n",
       "      <td>GridSearchCV(cv=ShuffleSplit(n_splits=5, rando...</td>\n",
       "      <td>0.897727</td>\n",
       "    </tr>\n",
       "    <tr>\n",
       "      <td>5</td>\n",
       "      <td>MaxEnt Classifier on pos-tagged text</td>\n",
       "      <td>GridSearchCV(cv=ShuffleSplit(n_splits=5, rando...</td>\n",
       "      <td>0.929545</td>\n",
       "    </tr>\n",
       "    <tr>\n",
       "      <td>6</td>\n",
       "      <td>SVC on preprocessed+pos-tagged TF-IDF weighted...</td>\n",
       "      <td>GridSearchCV(cv=ShuffleSplit(n_splits=5, rando...</td>\n",
       "      <td>0.945455</td>\n",
       "    </tr>\n",
       "    <tr>\n",
       "      <td>7</td>\n",
       "      <td>Naiive Bayes on preprocessed+pos-tagged TF-IDF...</td>\n",
       "      <td>GridSearchCV(cv=ShuffleSplit(n_splits=5, rando...</td>\n",
       "      <td>0.816667</td>\n",
       "    </tr>\n",
       "    <tr>\n",
       "      <td>8</td>\n",
       "      <td>MaxEnt on preprocessed+pos-tagged TF-IDF weigh...</td>\n",
       "      <td>GridSearchCV(cv=ShuffleSplit(n_splits=5, rando...</td>\n",
       "      <td>0.943182</td>\n",
       "    </tr>\n",
       "    <tr>\n",
       "      <td>9</td>\n",
       "      <td>SVC on bigram vect.+ TF-IDF</td>\n",
       "      <td>GridSearchCV(cv=ShuffleSplit(n_splits=5, rando...</td>\n",
       "      <td>0.945455</td>\n",
       "    </tr>\n",
       "    <tr>\n",
       "      <td>10</td>\n",
       "      <td>MaxEnt on trigram vect.+ TF-IDF</td>\n",
       "      <td>GridSearchCV(cv=ShuffleSplit(n_splits=5, rando...</td>\n",
       "      <td>0.943182</td>\n",
       "    </tr>\n",
       "  </tbody>\n",
       "</table>\n",
       "</div>"
      ],
      "text/plain": [
       "                                           model_name  \\\n",
       "0                   <class 'sklearn.svm.classes.SVC'>   \n",
       "1                      Baseline Model 2: Naiive Bayes   \n",
       "2                 Baseline Model 3: MaxEnt Classifier   \n",
       "3                              SVC on pos-tagged text   \n",
       "4                     Naiive Bayes on pos-tagged text   \n",
       "5                MaxEnt Classifier on pos-tagged text   \n",
       "6   SVC on preprocessed+pos-tagged TF-IDF weighted...   \n",
       "7   Naiive Bayes on preprocessed+pos-tagged TF-IDF...   \n",
       "8   MaxEnt on preprocessed+pos-tagged TF-IDF weigh...   \n",
       "9                         SVC on bigram vect.+ TF-IDF   \n",
       "10                    MaxEnt on trigram vect.+ TF-IDF   \n",
       "\n",
       "                                         model_object  \\\n",
       "0                   <class 'sklearn.svm.classes.SVC'>   \n",
       "1   GridSearchCV(cv=ShuffleSplit(n_splits=5, rando...   \n",
       "2   GridSearchCV(cv=ShuffleSplit(n_splits=5, rando...   \n",
       "3   GridSearchCV(cv=ShuffleSplit(n_splits=5, rando...   \n",
       "4   GridSearchCV(cv=ShuffleSplit(n_splits=5, rando...   \n",
       "5   GridSearchCV(cv=ShuffleSplit(n_splits=5, rando...   \n",
       "6   GridSearchCV(cv=ShuffleSplit(n_splits=5, rando...   \n",
       "7   GridSearchCV(cv=ShuffleSplit(n_splits=5, rando...   \n",
       "8   GridSearchCV(cv=ShuffleSplit(n_splits=5, rando...   \n",
       "9   GridSearchCV(cv=ShuffleSplit(n_splits=5, rando...   \n",
       "10  GridSearchCV(cv=ShuffleSplit(n_splits=5, rando...   \n",
       "\n",
       "                                score  \n",
       "0   <class 'sklearn.svm.classes.SVC'>  \n",
       "1                            0.894697  \n",
       "2                            0.923485  \n",
       "3                            0.915909  \n",
       "4                            0.897727  \n",
       "5                            0.929545  \n",
       "6                            0.945455  \n",
       "7                            0.816667  \n",
       "8                            0.943182  \n",
       "9                            0.945455  \n",
       "10                           0.943182  "
      ]
     },
     "execution_count": 52,
     "metadata": {},
     "output_type": "execute_result"
    }
   ],
   "source": [
    "models"
   ]
  },
  {
   "cell_type": "markdown",
   "metadata": {},
   "source": [
    "<h3 style=\"color:blue\">\n",
    "It looks like the \"MaxEnt on trigram vect.+ TF-IDF\" is the best model with the highest score. We will use it to predict and classify the testset.\n",
    "</h3>"
   ]
  },
  {
   "cell_type": "markdown",
   "metadata": {},
   "source": [
    "# Predicting on test dataset"
   ]
  },
  {
   "cell_type": "markdown",
   "metadata": {},
   "source": [
    "## 1. Train on whole data and predict on test"
   ]
  },
  {
   "cell_type": "markdown",
   "metadata": {},
   "source": [
    "### PREPROCESSED data"
   ]
  },
  {
   "cell_type": "code",
   "execution_count": 53,
   "metadata": {},
   "outputs": [],
   "source": [
    "test = pd.read_csv(\"fake_or_real_news_test.csv\")\n",
    "train = pd.read_csv(\"fake_or_real_news_training_CLEANED.csv\")"
   ]
  },
  {
   "cell_type": "code",
   "execution_count": 54,
   "metadata": {},
   "outputs": [],
   "source": [
    "train['title_and_text'] = train['title'] +' '+ train['text']\n",
    "train['preprocessed_text'] = train['title_and_text'].apply(lambda x: preprocess(x))"
   ]
  },
  {
   "cell_type": "code",
   "execution_count": 55,
   "metadata": {},
   "outputs": [],
   "source": [
    "test['title_and_text'] = test['title'] +' '+ test['text']\n",
    "test['preprocessed_text'] = test['title_and_text'].apply(lambda x: preprocess(x))"
   ]
  },
  {
   "cell_type": "code",
   "execution_count": 56,
   "metadata": {},
   "outputs": [
    {
     "data": {
      "text/html": [
       "<div>\n",
       "<style scoped>\n",
       "    .dataframe tbody tr th:only-of-type {\n",
       "        vertical-align: middle;\n",
       "    }\n",
       "\n",
       "    .dataframe tbody tr th {\n",
       "        vertical-align: top;\n",
       "    }\n",
       "\n",
       "    .dataframe thead th {\n",
       "        text-align: right;\n",
       "    }\n",
       "</style>\n",
       "<table border=\"1\" class=\"dataframe\">\n",
       "  <thead>\n",
       "    <tr style=\"text-align: right;\">\n",
       "      <th></th>\n",
       "      <th>ID</th>\n",
       "      <th>title</th>\n",
       "      <th>text</th>\n",
       "      <th>title_and_text</th>\n",
       "      <th>preprocessed_text</th>\n",
       "    </tr>\n",
       "  </thead>\n",
       "  <tbody>\n",
       "    <tr>\n",
       "      <td>0</td>\n",
       "      <td>10498</td>\n",
       "      <td>September New Homes Sales Rise——-Back To 1992 ...</td>\n",
       "      <td>September New Homes Sales Rise Back To 1992 Le...</td>\n",
       "      <td>September New Homes Sales Rise——-Back To 1992 ...</td>\n",
       "      <td>september new home sale rise——-back level sept...</td>\n",
       "    </tr>\n",
       "    <tr>\n",
       "      <td>1</td>\n",
       "      <td>2439</td>\n",
       "      <td>Why The Obamacare Doomsday Cult Can't Admit It...</td>\n",
       "      <td>But when Congress debated and passed the Patie...</td>\n",
       "      <td>Why The Obamacare Doomsday Cult Can't Admit It...</td>\n",
       "      <td>obamacare doomsday cult can't admit wrong cong...</td>\n",
       "    </tr>\n",
       "    <tr>\n",
       "      <td>2</td>\n",
       "      <td>864</td>\n",
       "      <td>Sanders, Cruz resist pressure after NY losses,...</td>\n",
       "      <td>The Bernie Sanders and Ted Cruz campaigns vowe...</td>\n",
       "      <td>Sanders, Cruz resist pressure after NY losses,...</td>\n",
       "      <td>sander cruz resist pressure ny loss vow fight ...</td>\n",
       "    </tr>\n",
       "    <tr>\n",
       "      <td>3</td>\n",
       "      <td>4128</td>\n",
       "      <td>Surviving escaped prisoner likely fatigued and...</td>\n",
       "      <td>Police searching for the second of two escaped...</td>\n",
       "      <td>Surviving escaped prisoner likely fatigued and...</td>\n",
       "      <td>survive escape prisoner likely fatigue prone m...</td>\n",
       "    </tr>\n",
       "    <tr>\n",
       "      <td>4</td>\n",
       "      <td>662</td>\n",
       "      <td>Clinton and Sanders neck and neck in Californi...</td>\n",
       "      <td>No matter who wins California's 475 delegates ...</td>\n",
       "      <td>Clinton and Sanders neck and neck in Californi...</td>\n",
       "      <td>clinton sander neck neck california primary ma...</td>\n",
       "    </tr>\n",
       "  </tbody>\n",
       "</table>\n",
       "</div>"
      ],
      "text/plain": [
       "      ID                                              title  \\\n",
       "0  10498  September New Homes Sales Rise——-Back To 1992 ...   \n",
       "1   2439  Why The Obamacare Doomsday Cult Can't Admit It...   \n",
       "2    864  Sanders, Cruz resist pressure after NY losses,...   \n",
       "3   4128  Surviving escaped prisoner likely fatigued and...   \n",
       "4    662  Clinton and Sanders neck and neck in Californi...   \n",
       "\n",
       "                                                text  \\\n",
       "0  September New Homes Sales Rise Back To 1992 Le...   \n",
       "1  But when Congress debated and passed the Patie...   \n",
       "2  The Bernie Sanders and Ted Cruz campaigns vowe...   \n",
       "3  Police searching for the second of two escaped...   \n",
       "4  No matter who wins California's 475 delegates ...   \n",
       "\n",
       "                                      title_and_text  \\\n",
       "0  September New Homes Sales Rise——-Back To 1992 ...   \n",
       "1  Why The Obamacare Doomsday Cult Can't Admit It...   \n",
       "2  Sanders, Cruz resist pressure after NY losses,...   \n",
       "3  Surviving escaped prisoner likely fatigued and...   \n",
       "4  Clinton and Sanders neck and neck in Californi...   \n",
       "\n",
       "                                   preprocessed_text  \n",
       "0  september new home sale rise——-back level sept...  \n",
       "1  obamacare doomsday cult can't admit wrong cong...  \n",
       "2  sander cruz resist pressure ny loss vow fight ...  \n",
       "3  survive escape prisoner likely fatigue prone m...  \n",
       "4  clinton sander neck neck california primary ma...  "
      ]
     },
     "execution_count": 56,
     "metadata": {},
     "output_type": "execute_result"
    }
   ],
   "source": [
    "test.head()"
   ]
  },
  {
   "cell_type": "code",
   "execution_count": 57,
   "metadata": {},
   "outputs": [],
   "source": [
    "## Save preprocessed df\n",
    "train.to_csv(\"fake_or_real_news_train_PREPROCESSED.csv\", index=False)"
   ]
  },
  {
   "cell_type": "code",
   "execution_count": 58,
   "metadata": {},
   "outputs": [],
   "source": [
    "# Save preprocessed df\n",
    "test.to_csv(\"fake_or_real_news_test_PREPROCESSED.csv\", index=False)"
   ]
  },
  {
   "cell_type": "code",
   "execution_count": 59,
   "metadata": {},
   "outputs": [],
   "source": [
    "train = pd.read_csv(\"fake_or_real_news_train_PREPROCESSED.csv\")\n",
    "train = train.astype(object).replace(np.nan, 'None')\n",
    "\n",
    "test = pd.read_csv(\"fake_or_real_news_test_PREPROCESSED.csv\")\n",
    "test = test.astype(object).replace(np.nan, 'None')"
   ]
  },
  {
   "cell_type": "code",
   "execution_count": 60,
   "metadata": {},
   "outputs": [],
   "source": [
    "test = test.astype(object).replace(np.nan, 'None')"
   ]
  },
  {
   "cell_type": "code",
   "execution_count": 61,
   "metadata": {},
   "outputs": [
    {
     "data": {
      "text/html": [
       "<div>\n",
       "<style scoped>\n",
       "    .dataframe tbody tr th:only-of-type {\n",
       "        vertical-align: middle;\n",
       "    }\n",
       "\n",
       "    .dataframe tbody tr th {\n",
       "        vertical-align: top;\n",
       "    }\n",
       "\n",
       "    .dataframe thead th {\n",
       "        text-align: right;\n",
       "    }\n",
       "</style>\n",
       "<table border=\"1\" class=\"dataframe\">\n",
       "  <thead>\n",
       "    <tr style=\"text-align: right;\">\n",
       "      <th></th>\n",
       "      <th>ID</th>\n",
       "      <th>title</th>\n",
       "      <th>text</th>\n",
       "      <th>title_and_text</th>\n",
       "      <th>preprocessed_text</th>\n",
       "    </tr>\n",
       "  </thead>\n",
       "  <tbody>\n",
       "    <tr>\n",
       "      <td>0</td>\n",
       "      <td>10498</td>\n",
       "      <td>September New Homes Sales Rise——-Back To 1992 ...</td>\n",
       "      <td>September New Homes Sales Rise Back To 1992 Le...</td>\n",
       "      <td>September New Homes Sales Rise——-Back To 1992 ...</td>\n",
       "      <td>september new home sale rise——-back level sept...</td>\n",
       "    </tr>\n",
       "    <tr>\n",
       "      <td>1</td>\n",
       "      <td>2439</td>\n",
       "      <td>Why The Obamacare Doomsday Cult Can't Admit It...</td>\n",
       "      <td>But when Congress debated and passed the Patie...</td>\n",
       "      <td>Why The Obamacare Doomsday Cult Can't Admit It...</td>\n",
       "      <td>obamacare doomsday cult can't admit wrong cong...</td>\n",
       "    </tr>\n",
       "    <tr>\n",
       "      <td>2</td>\n",
       "      <td>864</td>\n",
       "      <td>Sanders, Cruz resist pressure after NY losses,...</td>\n",
       "      <td>The Bernie Sanders and Ted Cruz campaigns vowe...</td>\n",
       "      <td>Sanders, Cruz resist pressure after NY losses,...</td>\n",
       "      <td>sander cruz resist pressure ny loss vow fight ...</td>\n",
       "    </tr>\n",
       "    <tr>\n",
       "      <td>3</td>\n",
       "      <td>4128</td>\n",
       "      <td>Surviving escaped prisoner likely fatigued and...</td>\n",
       "      <td>Police searching for the second of two escaped...</td>\n",
       "      <td>Surviving escaped prisoner likely fatigued and...</td>\n",
       "      <td>survive escape prisoner likely fatigue prone m...</td>\n",
       "    </tr>\n",
       "    <tr>\n",
       "      <td>4</td>\n",
       "      <td>662</td>\n",
       "      <td>Clinton and Sanders neck and neck in Californi...</td>\n",
       "      <td>No matter who wins California's 475 delegates ...</td>\n",
       "      <td>Clinton and Sanders neck and neck in Californi...</td>\n",
       "      <td>clinton sander neck neck california primary ma...</td>\n",
       "    </tr>\n",
       "  </tbody>\n",
       "</table>\n",
       "</div>"
      ],
      "text/plain": [
       "      ID                                              title  \\\n",
       "0  10498  September New Homes Sales Rise——-Back To 1992 ...   \n",
       "1   2439  Why The Obamacare Doomsday Cult Can't Admit It...   \n",
       "2    864  Sanders, Cruz resist pressure after NY losses,...   \n",
       "3   4128  Surviving escaped prisoner likely fatigued and...   \n",
       "4    662  Clinton and Sanders neck and neck in Californi...   \n",
       "\n",
       "                                                text  \\\n",
       "0  September New Homes Sales Rise Back To 1992 Le...   \n",
       "1  But when Congress debated and passed the Patie...   \n",
       "2  The Bernie Sanders and Ted Cruz campaigns vowe...   \n",
       "3  Police searching for the second of two escaped...   \n",
       "4  No matter who wins California's 475 delegates ...   \n",
       "\n",
       "                                      title_and_text  \\\n",
       "0  September New Homes Sales Rise——-Back To 1992 ...   \n",
       "1  Why The Obamacare Doomsday Cult Can't Admit It...   \n",
       "2  Sanders, Cruz resist pressure after NY losses,...   \n",
       "3  Surviving escaped prisoner likely fatigued and...   \n",
       "4  Clinton and Sanders neck and neck in Californi...   \n",
       "\n",
       "                                   preprocessed_text  \n",
       "0  september new home sale rise——-back level sept...  \n",
       "1  obamacare doomsday cult can't admit wrong cong...  \n",
       "2  sander cruz resist pressure ny loss vow fight ...  \n",
       "3  survive escape prisoner likely fatigue prone m...  \n",
       "4  clinton sander neck neck california primary ma...  "
      ]
     },
     "execution_count": 61,
     "metadata": {},
     "output_type": "execute_result"
    }
   ],
   "source": [
    "test.head()"
   ]
  },
  {
   "cell_type": "code",
   "execution_count": 62,
   "metadata": {},
   "outputs": [
    {
     "data": {
      "text/html": [
       "<div>\n",
       "<style scoped>\n",
       "    .dataframe tbody tr th:only-of-type {\n",
       "        vertical-align: middle;\n",
       "    }\n",
       "\n",
       "    .dataframe tbody tr th {\n",
       "        vertical-align: top;\n",
       "    }\n",
       "\n",
       "    .dataframe thead th {\n",
       "        text-align: right;\n",
       "    }\n",
       "</style>\n",
       "<table border=\"1\" class=\"dataframe\">\n",
       "  <thead>\n",
       "    <tr style=\"text-align: right;\">\n",
       "      <th></th>\n",
       "      <th>ID</th>\n",
       "      <th>title</th>\n",
       "      <th>text</th>\n",
       "      <th>label</th>\n",
       "      <th>X1</th>\n",
       "      <th>X2</th>\n",
       "      <th>title_and_text</th>\n",
       "      <th>preprocessed_text</th>\n",
       "    </tr>\n",
       "  </thead>\n",
       "  <tbody>\n",
       "    <tr>\n",
       "      <td>0</td>\n",
       "      <td>8476</td>\n",
       "      <td>You Can Smell Hillary’s Fear</td>\n",
       "      <td>Daniel Greenfield | a Shillman Journalism Fell...</td>\n",
       "      <td>FAKE</td>\n",
       "      <td>None</td>\n",
       "      <td>None</td>\n",
       "      <td>You Can Smell Hillary’s Fear Daniel Greenfield...</td>\n",
       "      <td>smell hillary’s fear daniel greenfield shillma...</td>\n",
       "    </tr>\n",
       "    <tr>\n",
       "      <td>1</td>\n",
       "      <td>10294</td>\n",
       "      <td>Watch The Exact Moment Paul Ryan Committed Pol...</td>\n",
       "      <td>Google Pinterest Digg Linkedin Reddit Stumbleu...</td>\n",
       "      <td>FAKE</td>\n",
       "      <td>None</td>\n",
       "      <td>None</td>\n",
       "      <td>Watch The Exact Moment Paul Ryan Committed Pol...</td>\n",
       "      <td>watch exact moment paul ryan commit political ...</td>\n",
       "    </tr>\n",
       "    <tr>\n",
       "      <td>2</td>\n",
       "      <td>3608</td>\n",
       "      <td>Kerry to go to Paris in gesture of sympathy</td>\n",
       "      <td>U.S. Secretary of State John F. Kerry said Mon...</td>\n",
       "      <td>REAL</td>\n",
       "      <td>None</td>\n",
       "      <td>None</td>\n",
       "      <td>Kerry to go to Paris in gesture of sympathy U....</td>\n",
       "      <td>kerry go paris gesture sympathy u.s secretary ...</td>\n",
       "    </tr>\n",
       "    <tr>\n",
       "      <td>3</td>\n",
       "      <td>10142</td>\n",
       "      <td>Bernie supporters on Twitter erupt in anger ag...</td>\n",
       "      <td>— Kaydee King (@KaydeeKing) November 9 | 2016 ...</td>\n",
       "      <td>FAKE</td>\n",
       "      <td>None</td>\n",
       "      <td>None</td>\n",
       "      <td>Bernie supporters on Twitter erupt in anger ag...</td>\n",
       "      <td>bernie supporter twitter erupt anger dnc try w...</td>\n",
       "    </tr>\n",
       "    <tr>\n",
       "      <td>4</td>\n",
       "      <td>875</td>\n",
       "      <td>The Battle of New York: Why This Primary Matte...</td>\n",
       "      <td>Cruz promised his supporters. \"\"We're beating...</td>\n",
       "      <td>REAL</td>\n",
       "      <td>None</td>\n",
       "      <td>None</td>\n",
       "      <td>The Battle of New York: Why This Primary Matte...</td>\n",
       "      <td>battle new york primary matter primary day new...</td>\n",
       "    </tr>\n",
       "  </tbody>\n",
       "</table>\n",
       "</div>"
      ],
      "text/plain": [
       "      ID                                              title  \\\n",
       "0   8476                       You Can Smell Hillary’s Fear   \n",
       "1  10294  Watch The Exact Moment Paul Ryan Committed Pol...   \n",
       "2   3608        Kerry to go to Paris in gesture of sympathy   \n",
       "3  10142  Bernie supporters on Twitter erupt in anger ag...   \n",
       "4    875  The Battle of New York: Why This Primary Matte...   \n",
       "\n",
       "                                                text label    X1    X2  \\\n",
       "0  Daniel Greenfield | a Shillman Journalism Fell...  FAKE  None  None   \n",
       "1  Google Pinterest Digg Linkedin Reddit Stumbleu...  FAKE  None  None   \n",
       "2  U.S. Secretary of State John F. Kerry said Mon...  REAL  None  None   \n",
       "3  — Kaydee King (@KaydeeKing) November 9 | 2016 ...  FAKE  None  None   \n",
       "4   Cruz promised his supporters. \"\"We're beating...  REAL  None  None   \n",
       "\n",
       "                                      title_and_text  \\\n",
       "0  You Can Smell Hillary’s Fear Daniel Greenfield...   \n",
       "1  Watch The Exact Moment Paul Ryan Committed Pol...   \n",
       "2  Kerry to go to Paris in gesture of sympathy U....   \n",
       "3  Bernie supporters on Twitter erupt in anger ag...   \n",
       "4  The Battle of New York: Why This Primary Matte...   \n",
       "\n",
       "                                   preprocessed_text  \n",
       "0  smell hillary’s fear daniel greenfield shillma...  \n",
       "1  watch exact moment paul ryan commit political ...  \n",
       "2  kerry go paris gesture sympathy u.s secretary ...  \n",
       "3  bernie supporter twitter erupt anger dnc try w...  \n",
       "4  battle new york primary matter primary day new...  "
      ]
     },
     "execution_count": 62,
     "metadata": {},
     "output_type": "execute_result"
    }
   ],
   "source": [
    "train.head()"
   ]
  },
  {
   "cell_type": "markdown",
   "metadata": {},
   "source": [
    "### POS Tagging"
   ]
  },
  {
   "cell_type": "code",
   "execution_count": 63,
   "metadata": {},
   "outputs": [],
   "source": [
    "train['pos_tagged_text'] = train['preprocessed_text'].apply(lambda x: pos_tag_words(x))\n",
    "test['pos_tagged_text'] = test['preprocessed_text'].apply(lambda x: pos_tag_words(x))"
   ]
  },
  {
   "cell_type": "markdown",
   "metadata": {},
   "source": [
    "### merge clean and pos tagged"
   ]
  },
  {
   "cell_type": "code",
   "execution_count": 64,
   "metadata": {},
   "outputs": [],
   "source": [
    "train[\"clean_and_pos_tagged_text\"] = train['preprocessed_text'] + ' ' + train['pos_tagged_text']\n",
    "test[\"clean_and_pos_tagged_text\"] = test['preprocessed_text'] + ' ' + train['pos_tagged_text']"
   ]
  },
  {
   "cell_type": "code",
   "execution_count": 65,
   "metadata": {},
   "outputs": [
    {
     "data": {
      "text/html": [
       "<div>\n",
       "<style scoped>\n",
       "    .dataframe tbody tr th:only-of-type {\n",
       "        vertical-align: middle;\n",
       "    }\n",
       "\n",
       "    .dataframe tbody tr th {\n",
       "        vertical-align: top;\n",
       "    }\n",
       "\n",
       "    .dataframe thead th {\n",
       "        text-align: right;\n",
       "    }\n",
       "</style>\n",
       "<table border=\"1\" class=\"dataframe\">\n",
       "  <thead>\n",
       "    <tr style=\"text-align: right;\">\n",
       "      <th></th>\n",
       "      <th>ID</th>\n",
       "      <th>title</th>\n",
       "      <th>text</th>\n",
       "      <th>label</th>\n",
       "      <th>X1</th>\n",
       "      <th>X2</th>\n",
       "      <th>title_and_text</th>\n",
       "      <th>preprocessed_text</th>\n",
       "      <th>pos_tagged_text</th>\n",
       "      <th>clean_and_pos_tagged_text</th>\n",
       "    </tr>\n",
       "  </thead>\n",
       "  <tbody>\n",
       "    <tr>\n",
       "      <td>0</td>\n",
       "      <td>8476</td>\n",
       "      <td>You Can Smell Hillary’s Fear</td>\n",
       "      <td>Daniel Greenfield | a Shillman Journalism Fell...</td>\n",
       "      <td>FAKE</td>\n",
       "      <td>None</td>\n",
       "      <td>None</td>\n",
       "      <td>You Can Smell Hillary’s Fear Daniel Greenfield...</td>\n",
       "      <td>smell hillary’s fear daniel greenfield shillma...</td>\n",
       "      <td>NN-smell JJ-hillary NNP-’ NN-s NN-fear JJ-dani...</td>\n",
       "      <td>smell hillary’s fear daniel greenfield shillma...</td>\n",
       "    </tr>\n",
       "  </tbody>\n",
       "</table>\n",
       "</div>"
      ],
      "text/plain": [
       "     ID                         title  \\\n",
       "0  8476  You Can Smell Hillary’s Fear   \n",
       "\n",
       "                                                text label    X1    X2  \\\n",
       "0  Daniel Greenfield | a Shillman Journalism Fell...  FAKE  None  None   \n",
       "\n",
       "                                      title_and_text  \\\n",
       "0  You Can Smell Hillary’s Fear Daniel Greenfield...   \n",
       "\n",
       "                                   preprocessed_text  \\\n",
       "0  smell hillary’s fear daniel greenfield shillma...   \n",
       "\n",
       "                                     pos_tagged_text  \\\n",
       "0  NN-smell JJ-hillary NNP-’ NN-s NN-fear JJ-dani...   \n",
       "\n",
       "                           clean_and_pos_tagged_text  \n",
       "0  smell hillary’s fear daniel greenfield shillma...  "
      ]
     },
     "execution_count": 65,
     "metadata": {},
     "output_type": "execute_result"
    }
   ],
   "source": [
    "train.head(1)"
   ]
  },
  {
   "cell_type": "code",
   "execution_count": 66,
   "metadata": {},
   "outputs": [
    {
     "data": {
      "text/html": [
       "<div>\n",
       "<style scoped>\n",
       "    .dataframe tbody tr th:only-of-type {\n",
       "        vertical-align: middle;\n",
       "    }\n",
       "\n",
       "    .dataframe tbody tr th {\n",
       "        vertical-align: top;\n",
       "    }\n",
       "\n",
       "    .dataframe thead th {\n",
       "        text-align: right;\n",
       "    }\n",
       "</style>\n",
       "<table border=\"1\" class=\"dataframe\">\n",
       "  <thead>\n",
       "    <tr style=\"text-align: right;\">\n",
       "      <th></th>\n",
       "      <th>ID</th>\n",
       "      <th>title</th>\n",
       "      <th>text</th>\n",
       "      <th>title_and_text</th>\n",
       "      <th>preprocessed_text</th>\n",
       "      <th>pos_tagged_text</th>\n",
       "      <th>clean_and_pos_tagged_text</th>\n",
       "    </tr>\n",
       "  </thead>\n",
       "  <tbody>\n",
       "    <tr>\n",
       "      <td>0</td>\n",
       "      <td>10498</td>\n",
       "      <td>September New Homes Sales Rise——-Back To 1992 ...</td>\n",
       "      <td>September New Homes Sales Rise Back To 1992 Le...</td>\n",
       "      <td>September New Homes Sales Rise——-Back To 1992 ...</td>\n",
       "      <td>september new home sale rise——-back level sept...</td>\n",
       "      <td>VB-september JJ-new NN-home NN-sale JJ-rise——-...</td>\n",
       "      <td>september new home sale rise——-back level sept...</td>\n",
       "    </tr>\n",
       "  </tbody>\n",
       "</table>\n",
       "</div>"
      ],
      "text/plain": [
       "      ID                                              title  \\\n",
       "0  10498  September New Homes Sales Rise——-Back To 1992 ...   \n",
       "\n",
       "                                                text  \\\n",
       "0  September New Homes Sales Rise Back To 1992 Le...   \n",
       "\n",
       "                                      title_and_text  \\\n",
       "0  September New Homes Sales Rise——-Back To 1992 ...   \n",
       "\n",
       "                                   preprocessed_text  \\\n",
       "0  september new home sale rise——-back level sept...   \n",
       "\n",
       "                                     pos_tagged_text  \\\n",
       "0  VB-september JJ-new NN-home NN-sale JJ-rise——-...   \n",
       "\n",
       "                           clean_and_pos_tagged_text  \n",
       "0  september new home sale rise——-back level sept...  "
      ]
     },
     "execution_count": 66,
     "metadata": {},
     "output_type": "execute_result"
    }
   ],
   "source": [
    "test.head(1)"
   ]
  },
  {
   "cell_type": "markdown",
   "metadata": {},
   "source": [
    "## Modelling using MaxEnt on trigram vect.+ TF-IDF Grid Search Best params"
   ]
  },
  {
   "cell_type": "markdown",
   "metadata": {},
   "source": [
    "### Trigram + Tfdif + classifier pipeline"
   ]
  },
  {
   "cell_type": "code",
   "execution_count": 67,
   "metadata": {},
   "outputs": [],
   "source": [
    "from sklearn.pipeline import Pipeline\n",
    "trigram_vectorizer = CountVectorizer(analyzer = \"word\", ngram_range=(1,3))\n",
    "tf_idf = TfidfTransformer(norm=\"l2\")\n",
    "classifier = LogisticRegression(C=1000, class_weight=None, dual=False, fit_intercept=True,\n",
    "          intercept_scaling=1, max_iter=100, multi_class='auto',\n",
    "          n_jobs=None, penalty='l2', random_state=None, solver='liblinear',\n",
    "          tol=0.0001, verbose=0, warm_start=False)\n",
    "\n",
    "pipeline = Pipeline([\n",
    "     ('trigram_vectorizer', trigram_vectorizer),\n",
    "     ('tfidf', tf_idf),\n",
    "     ('clf', classifier),\n",
    " ])\n"
   ]
  },
  {
   "cell_type": "code",
   "execution_count": 68,
   "metadata": {},
   "outputs": [
    {
     "data": {
      "text/plain": [
       "Pipeline(memory=None,\n",
       "         steps=[('trigram_vectorizer',\n",
       "                 CountVectorizer(analyzer='word', binary=False,\n",
       "                                 decode_error='strict',\n",
       "                                 dtype=<class 'numpy.int64'>, encoding='utf-8',\n",
       "                                 input='content', lowercase=True, max_df=1.0,\n",
       "                                 max_features=None, min_df=1,\n",
       "                                 ngram_range=(1, 3), preprocessor=None,\n",
       "                                 stop_words=None, strip_accents=None,\n",
       "                                 token_pattern='(?u)\\\\b\\\\w\\\\w+\\\\b',\n",
       "                                 tokenizer=None,...\n",
       "                ('tfidf',\n",
       "                 TfidfTransformer(norm='l2', smooth_idf=True,\n",
       "                                  sublinear_tf=False, use_idf=True)),\n",
       "                ('clf',\n",
       "                 LogisticRegression(C=1000, class_weight=None, dual=False,\n",
       "                                    fit_intercept=True, intercept_scaling=1,\n",
       "                                    l1_ratio=None, max_iter=100,\n",
       "                                    multi_class='auto', n_jobs=None,\n",
       "                                    penalty='l2', random_state=None,\n",
       "                                    solver='liblinear', tol=0.0001, verbose=0,\n",
       "                                    warm_start=False))],\n",
       "         verbose=False)"
      ]
     },
     "execution_count": 68,
     "metadata": {},
     "output_type": "execute_result"
    }
   ],
   "source": [
    "pipeline.fit(train.clean_and_pos_tagged_text, encoder.fit_transform(train.label.values))"
   ]
  },
  {
   "cell_type": "code",
   "execution_count": 69,
   "metadata": {},
   "outputs": [],
   "source": [
    "import pickle\n",
    "pickle.dump( pipeline, open( \"pipeline.pkl\", \"wb\" ) )"
   ]
  },
  {
   "cell_type": "markdown",
   "metadata": {},
   "source": [
    "## 2. Predicting on test"
   ]
  },
  {
   "cell_type": "code",
   "execution_count": 70,
   "metadata": {},
   "outputs": [
    {
     "name": "stdout",
     "output_type": "stream",
     "text": [
      "\u001b[34mPredicting on test\u001b[0m\n"
     ]
    }
   ],
   "source": [
    "print(colored(\"Predicting on test\", 'blue'))\n",
    "test_predictions = test_predictions = pipeline.predict(test.clean_and_pos_tagged_text)\n"
   ]
  },
  {
   "cell_type": "code",
   "execution_count": 71,
   "metadata": {},
   "outputs": [
    {
     "data": {
      "text/plain": [
       "array([0, 0, 1, ..., 1, 1, 1])"
      ]
     },
     "execution_count": 71,
     "metadata": {},
     "output_type": "execute_result"
    }
   ],
   "source": [
    "test_predictions"
   ]
  },
  {
   "cell_type": "code",
   "execution_count": 72,
   "metadata": {},
   "outputs": [],
   "source": [
    "test_predictions_decoded = encoder.inverse_transform( test_predictions )"
   ]
  },
  {
   "cell_type": "code",
   "execution_count": 73,
   "metadata": {},
   "outputs": [],
   "source": [
    "predictions = test\n",
    "predictions[\"label\"] = test_predictions_decoded"
   ]
  },
  {
   "cell_type": "code",
   "execution_count": 74,
   "metadata": {},
   "outputs": [
    {
     "data": {
      "text/plain": [
       "(2321, 8)"
      ]
     },
     "execution_count": 74,
     "metadata": {},
     "output_type": "execute_result"
    }
   ],
   "source": [
    "predictions.shape"
   ]
  },
  {
   "cell_type": "code",
   "execution_count": 75,
   "metadata": {},
   "outputs": [
    {
     "data": {
      "text/html": [
       "<div>\n",
       "<style scoped>\n",
       "    .dataframe tbody tr th:only-of-type {\n",
       "        vertical-align: middle;\n",
       "    }\n",
       "\n",
       "    .dataframe tbody tr th {\n",
       "        vertical-align: top;\n",
       "    }\n",
       "\n",
       "    .dataframe thead th {\n",
       "        text-align: right;\n",
       "    }\n",
       "</style>\n",
       "<table border=\"1\" class=\"dataframe\">\n",
       "  <thead>\n",
       "    <tr style=\"text-align: right;\">\n",
       "      <th></th>\n",
       "      <th>ID</th>\n",
       "      <th>title</th>\n",
       "      <th>text</th>\n",
       "      <th>title_and_text</th>\n",
       "      <th>preprocessed_text</th>\n",
       "      <th>pos_tagged_text</th>\n",
       "      <th>clean_and_pos_tagged_text</th>\n",
       "      <th>label</th>\n",
       "    </tr>\n",
       "  </thead>\n",
       "  <tbody>\n",
       "    <tr>\n",
       "      <td>0</td>\n",
       "      <td>10498</td>\n",
       "      <td>September New Homes Sales Rise——-Back To 1992 ...</td>\n",
       "      <td>September New Homes Sales Rise Back To 1992 Le...</td>\n",
       "      <td>September New Homes Sales Rise——-Back To 1992 ...</td>\n",
       "      <td>september new home sale rise——-back level sept...</td>\n",
       "      <td>VB-september JJ-new NN-home NN-sale JJ-rise——-...</td>\n",
       "      <td>september new home sale rise——-back level sept...</td>\n",
       "      <td>FAKE</td>\n",
       "    </tr>\n",
       "    <tr>\n",
       "      <td>1</td>\n",
       "      <td>2439</td>\n",
       "      <td>Why The Obamacare Doomsday Cult Can't Admit It...</td>\n",
       "      <td>But when Congress debated and passed the Patie...</td>\n",
       "      <td>Why The Obamacare Doomsday Cult Can't Admit It...</td>\n",
       "      <td>obamacare doomsday cult can't admit wrong cong...</td>\n",
       "      <td>NN-obamacare NN-doomsday NN-cult MD-ca RB-n't ...</td>\n",
       "      <td>obamacare doomsday cult can't admit wrong cong...</td>\n",
       "      <td>FAKE</td>\n",
       "    </tr>\n",
       "    <tr>\n",
       "      <td>2</td>\n",
       "      <td>864</td>\n",
       "      <td>Sanders, Cruz resist pressure after NY losses,...</td>\n",
       "      <td>The Bernie Sanders and Ted Cruz campaigns vowe...</td>\n",
       "      <td>Sanders, Cruz resist pressure after NY losses,...</td>\n",
       "      <td>sander cruz resist pressure ny loss vow fight ...</td>\n",
       "      <td>NN-sander NNS-cruz VBP-resist NN-pressure JJ-n...</td>\n",
       "      <td>sander cruz resist pressure ny loss vow fight ...</td>\n",
       "      <td>REAL</td>\n",
       "    </tr>\n",
       "    <tr>\n",
       "      <td>3</td>\n",
       "      <td>4128</td>\n",
       "      <td>Surviving escaped prisoner likely fatigued and...</td>\n",
       "      <td>Police searching for the second of two escaped...</td>\n",
       "      <td>Surviving escaped prisoner likely fatigued and...</td>\n",
       "      <td>survive escape prisoner likely fatigue prone m...</td>\n",
       "      <td>JJ-survive NN-escape NN-prisoner JJ-likely NN-...</td>\n",
       "      <td>survive escape prisoner likely fatigue prone m...</td>\n",
       "      <td>REAL</td>\n",
       "    </tr>\n",
       "    <tr>\n",
       "      <td>4</td>\n",
       "      <td>662</td>\n",
       "      <td>Clinton and Sanders neck and neck in Californi...</td>\n",
       "      <td>No matter who wins California's 475 delegates ...</td>\n",
       "      <td>Clinton and Sanders neck and neck in Californi...</td>\n",
       "      <td>clinton sander neck neck california primary ma...</td>\n",
       "      <td>NN-clinton NN-sander NN-neck NN-neck NN-califo...</td>\n",
       "      <td>clinton sander neck neck california primary ma...</td>\n",
       "      <td>REAL</td>\n",
       "    </tr>\n",
       "  </tbody>\n",
       "</table>\n",
       "</div>"
      ],
      "text/plain": [
       "      ID                                              title  \\\n",
       "0  10498  September New Homes Sales Rise——-Back To 1992 ...   \n",
       "1   2439  Why The Obamacare Doomsday Cult Can't Admit It...   \n",
       "2    864  Sanders, Cruz resist pressure after NY losses,...   \n",
       "3   4128  Surviving escaped prisoner likely fatigued and...   \n",
       "4    662  Clinton and Sanders neck and neck in Californi...   \n",
       "\n",
       "                                                text  \\\n",
       "0  September New Homes Sales Rise Back To 1992 Le...   \n",
       "1  But when Congress debated and passed the Patie...   \n",
       "2  The Bernie Sanders and Ted Cruz campaigns vowe...   \n",
       "3  Police searching for the second of two escaped...   \n",
       "4  No matter who wins California's 475 delegates ...   \n",
       "\n",
       "                                      title_and_text  \\\n",
       "0  September New Homes Sales Rise——-Back To 1992 ...   \n",
       "1  Why The Obamacare Doomsday Cult Can't Admit It...   \n",
       "2  Sanders, Cruz resist pressure after NY losses,...   \n",
       "3  Surviving escaped prisoner likely fatigued and...   \n",
       "4  Clinton and Sanders neck and neck in Californi...   \n",
       "\n",
       "                                   preprocessed_text  \\\n",
       "0  september new home sale rise——-back level sept...   \n",
       "1  obamacare doomsday cult can't admit wrong cong...   \n",
       "2  sander cruz resist pressure ny loss vow fight ...   \n",
       "3  survive escape prisoner likely fatigue prone m...   \n",
       "4  clinton sander neck neck california primary ma...   \n",
       "\n",
       "                                     pos_tagged_text  \\\n",
       "0  VB-september JJ-new NN-home NN-sale JJ-rise——-...   \n",
       "1  NN-obamacare NN-doomsday NN-cult MD-ca RB-n't ...   \n",
       "2  NN-sander NNS-cruz VBP-resist NN-pressure JJ-n...   \n",
       "3  JJ-survive NN-escape NN-prisoner JJ-likely NN-...   \n",
       "4  NN-clinton NN-sander NN-neck NN-neck NN-califo...   \n",
       "\n",
       "                           clean_and_pos_tagged_text label  \n",
       "0  september new home sale rise——-back level sept...  FAKE  \n",
       "1  obamacare doomsday cult can't admit wrong cong...  FAKE  \n",
       "2  sander cruz resist pressure ny loss vow fight ...  REAL  \n",
       "3  survive escape prisoner likely fatigue prone m...  REAL  \n",
       "4  clinton sander neck neck california primary ma...  REAL  "
      ]
     },
     "execution_count": 75,
     "metadata": {},
     "output_type": "execute_result"
    }
   ],
   "source": [
    "predictions.head()"
   ]
  },
  {
   "cell_type": "code",
   "execution_count": 77,
   "metadata": {},
   "outputs": [
    {
     "data": {
      "text/plain": [
       "count     2321\n",
       "unique       2\n",
       "top       REAL\n",
       "freq      1320\n",
       "Name: label, dtype: object"
      ]
     },
     "execution_count": 77,
     "metadata": {},
     "output_type": "execute_result"
    }
   ],
   "source": [
    "predictions.label.describe()"
   ]
  },
  {
   "cell_type": "code",
   "execution_count": 1,
   "metadata": {},
   "outputs": [
    {
     "ename": "NameError",
     "evalue": "name 'sns' is not defined",
     "output_type": "error",
     "traceback": [
      "\u001b[1;31m---------------------------------------------------------------------------\u001b[0m",
      "\u001b[1;31mNameError\u001b[0m                                 Traceback (most recent call last)",
      "\u001b[1;32m<ipython-input-1-adaf010660a3>\u001b[0m in \u001b[0;36m<module>\u001b[1;34m\u001b[0m\n\u001b[0;32m      1\u001b[0m \u001b[1;32mimport\u001b[0m \u001b[0mcollections\u001b[0m\u001b[1;33m\u001b[0m\u001b[1;33m\u001b[0m\u001b[0m\n\u001b[1;32m----> 2\u001b[1;33m ax = sns.countplot(predictions.label,\n\u001b[0m\u001b[0;32m      3\u001b[0m                 order=[x for x, count in sorted(collections.Counter(predictions.label).items(),\n\u001b[0;32m      4\u001b[0m                 key=lambda x: -x[1])])\n\u001b[0;32m      5\u001b[0m \u001b[1;33m\u001b[0m\u001b[0m\n",
      "\u001b[1;31mNameError\u001b[0m: name 'sns' is not defined"
     ]
    }
   ],
   "source": [
    "import collections\n",
    "ax = sns.countplot(predictions.label,\n",
    "                order=[x for x, count in sorted(collections.Counter(predictions.label).items(),\n",
    "                key=lambda x: -x[1])])\n",
    "\n",
    "\n",
    "for p in ax.patches:\n",
    "    height = p.get_height()\n",
    "    ax.text(p.get_x()+p.get_width()/2.,\n",
    "            height + 3,\n",
    "            '{:1.2f}%'.format(height/len(predictions)*100),\n",
    "            ha=\"center\") \n",
    "ax.set_title(\"Test dataset target\")\n",
    "#show()"
   ]
  },
  {
   "cell_type": "code",
   "execution_count": 78,
   "metadata": {},
   "outputs": [
    {
     "data": {
      "text/html": [
       "<div>\n",
       "<style scoped>\n",
       "    .dataframe tbody tr th:only-of-type {\n",
       "        vertical-align: middle;\n",
       "    }\n",
       "\n",
       "    .dataframe tbody tr th {\n",
       "        vertical-align: top;\n",
       "    }\n",
       "\n",
       "    .dataframe thead th {\n",
       "        text-align: right;\n",
       "    }\n",
       "</style>\n",
       "<table border=\"1\" class=\"dataframe\">\n",
       "  <thead>\n",
       "    <tr style=\"text-align: right;\">\n",
       "      <th></th>\n",
       "      <th>ID</th>\n",
       "      <th>label</th>\n",
       "    </tr>\n",
       "  </thead>\n",
       "  <tbody>\n",
       "    <tr>\n",
       "      <td>0</td>\n",
       "      <td>10498</td>\n",
       "      <td>FAKE</td>\n",
       "    </tr>\n",
       "    <tr>\n",
       "      <td>1</td>\n",
       "      <td>2439</td>\n",
       "      <td>FAKE</td>\n",
       "    </tr>\n",
       "    <tr>\n",
       "      <td>2</td>\n",
       "      <td>864</td>\n",
       "      <td>REAL</td>\n",
       "    </tr>\n",
       "    <tr>\n",
       "      <td>3</td>\n",
       "      <td>4128</td>\n",
       "      <td>REAL</td>\n",
       "    </tr>\n",
       "    <tr>\n",
       "      <td>4</td>\n",
       "      <td>662</td>\n",
       "      <td>REAL</td>\n",
       "    </tr>\n",
       "  </tbody>\n",
       "</table>\n",
       "</div>"
      ],
      "text/plain": [
       "      ID label\n",
       "0  10498  FAKE\n",
       "1   2439  FAKE\n",
       "2    864  REAL\n",
       "3   4128  REAL\n",
       "4    662  REAL"
      ]
     },
     "execution_count": 78,
     "metadata": {},
     "output_type": "execute_result"
    }
   ],
   "source": [
    "predictions.drop(columns=[\"title\",\"text\",\"title_and_text\",\"preprocessed_text\",\"pos_tagged_text\",\"clean_and_pos_tagged_text\"]).head()"
   ]
  },
  {
   "cell_type": "code",
   "execution_count": 79,
   "metadata": {},
   "outputs": [],
   "source": [
    "predictions.to_csv(\"TEST_PREDICTIONS.csv\", index=False)"
   ]
  },
  {
   "cell_type": "code",
   "execution_count": null,
   "metadata": {},
   "outputs": [],
   "source": []
  }
 ],
 "metadata": {
  "kernelspec": {
   "display_name": "Python 3",
   "language": "python",
   "name": "python3"
  },
  "language_info": {
   "codemirror_mode": {
    "name": "ipython",
    "version": 3
   },
   "file_extension": ".py",
   "mimetype": "text/x-python",
   "name": "python",
   "nbconvert_exporter": "python",
   "pygments_lexer": "ipython3",
   "version": "3.8.8"
  }
 },
 "nbformat": 4,
 "nbformat_minor": 2
}
